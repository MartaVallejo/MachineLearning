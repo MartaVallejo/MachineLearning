{
 "cells": [
  {
   "cell_type": "markdown",
   "id": "pacific-michael",
   "metadata": {},
   "source": [
    "# Jupyter Notebook of Stuart Grubb\n",
    "\n",
    "Here is the Jupyter Notebook that you can use to run your code. Remember that you data needs to be uploaded to the GitHub repository before you can use it. I recommend you to upload in the folder called *StudentProjects*.\n",
    "\n",
    "There are a lot of information on how to use Jupyter Notebook on Internet. Here, I will add a small list of actions:\n",
    "* Use the *Insert* menu to insert new cells\n",
    "* Use the *Cell/Cell type* menu to change the style of a given cell: *Code* if you want to add Python code and *Markdown* if you want to add an informative cell\n",
    "* Each cell can be executed individually. Then I recommend to include limited number of code lines in each of them.\n",
    "* Use the *Edit* menu to delete cells.\n",
    "* Remember to save your code once you add it.\n",
    "* If when you run your code, you have errors due to libraries not included in the repository, please contact me.\n",
    "\n",
    "If you have questions regarding the environment, please email me or use Teams."
   ]
  },
  {
   "cell_type": "code",
   "execution_count": null,
   "id": "identified-affairs",
   "metadata": {},
   "outputs": [],
   "source": [
    "Here, add your code"
   ]
  }
 ],
 "metadata": {
  "kernelspec": {
   "display_name": "Python 3",
   "language": "python",
   "name": "python3"
  },
  "language_info": {
   "codemirror_mode": {
    "name": "ipython",
    "version": 3
   },
   "file_extension": ".py",
   "mimetype": "text/x-python",
   "name": "python",
   "nbconvert_exporter": "python",
   "pygments_lexer": "ipython3",
   "version": "3.8.8"
  }
 },
 "nbformat": 4,
 "nbformat_minor": 5
}
