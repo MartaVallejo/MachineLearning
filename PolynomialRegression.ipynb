{
 "cells": [
  {
   "cell_type": "markdown",
   "id": "af1e2326-250a-4a6d-a5eb-851c0eae0ac6",
   "metadata": {},
   "source": [
    "# Polynomial Regression"
   ]
  },
  {
   "cell_type": "code",
   "execution_count": 24,
   "id": "98958347-0a92-42fa-bf47-06ca4eedd66b",
   "metadata": {},
   "outputs": [],
   "source": [
    "# We would need these libraries to manage our dataset\n",
    "# Numpy: used for large, multi-dimensional arrays and matrices, and for high-level mathematical functions\n",
    "# Pandas: used for data manipulation and analysis\n",
    "# matplotlib: used for visualisation and plotting graph/image/etc\n",
    "import numpy as np\n",
    "import pandas as pd\n",
    "import matplotlib.pyplot as plt"
   ]
  },
  {
   "cell_type": "code",
   "execution_count": 25,
   "id": "2987d184-6778-4cd4-b2c8-b5db32aed9d0",
   "metadata": {},
   "outputs": [
    {
     "name": "stdout",
     "output_type": "stream",
     "text": [
      "['sepal length (cm)', 'sepal width (cm)', 'petal length (cm)', 'petal width (cm)']\n"
     ]
    }
   ],
   "source": [
    "# Import the iris dataset from sklearn\n",
    "# https://scikit-learn.org/stable/modules/classes.html#module-sklearn.datasets\n",
    "from sklearn.datasets import load_iris\n",
    "# load the dataset\n",
    "iris = load_iris()\n",
    "print(iris['feature_names'])"
   ]
  },
  {
   "cell_type": "code",
   "execution_count": 54,
   "id": "a293756b-70fe-41b9-9528-d9057bd76def",
   "metadata": {},
   "outputs": [
    {
     "data": {
      "text/plain": [
       "(150, 1)"
      ]
     },
     "execution_count": 54,
     "metadata": {},
     "output_type": "execute_result"
    }
   ],
   "source": [
    "# reshape the X so it is a 2D array, which sklearn model usually expect\n",
    "X = iris['data'][:,0].reshape(-1, 1) # 'sepal length (cm)', 'sepal width (cm)', 'petal length (cm)',\n",
    "y = iris['data'][:,3] # petal width (cm)\n",
    "X.shape"
   ]
  },
  {
   "cell_type": "code",
   "execution_count": 55,
   "id": "0ad31f15-123a-4ead-95c7-3f2203c12d53",
   "metadata": {},
   "outputs": [],
   "source": [
    "from sklearn.preprocessing import PolynomialFeatures\n",
    "from sklearn import linear_model"
   ]
  },
  {
   "cell_type": "code",
   "execution_count": 56,
   "id": "fb2d9e87-d8df-4924-a803-0ae49394af39",
   "metadata": {},
   "outputs": [
    {
     "data": {
      "text/plain": [
       "(150, 3)"
      ]
     },
     "execution_count": 56,
     "metadata": {},
     "output_type": "execute_result"
    }
   ],
   "source": [
    "poly = PolynomialFeatures(degree=2)\n",
    "X_ = poly.fit_transform(X)\n",
    "X_.shape"
   ]
  },
  {
   "cell_type": "code",
   "execution_count": 57,
   "id": "d9af7a6b-82f4-4623-aa90-c6919fd23dec",
   "metadata": {},
   "outputs": [
    {
     "data": {
      "text/plain": [
       "(array([5.1]), array([ 1.  ,  5.1 , 26.01]))"
      ]
     },
     "execution_count": 57,
     "metadata": {},
     "output_type": "execute_result"
    }
   ],
   "source": [
    "X[0], X_[0]"
   ]
  },
  {
   "cell_type": "code",
   "execution_count": 58,
   "id": "e1ec752c-ea08-4a8e-a37d-288230a67398",
   "metadata": {},
   "outputs": [
    {
     "data": {
      "text/plain": [
       "LinearRegression()"
      ]
     },
     "execution_count": 58,
     "metadata": {},
     "output_type": "execute_result"
    }
   ],
   "source": [
    "# import regression from sklearn\n",
    "from sklearn.linear_model import LinearRegression\n",
    "# fit/train the model using the data\n",
    "reg = LinearRegression()\n",
    "reg.fit(X_, y)"
   ]
  },
  {
   "cell_type": "code",
   "execution_count": 59,
   "id": "507ee2b6-4eb6-466b-95c6-0e0aed234480",
   "metadata": {},
   "outputs": [
    {
     "name": "stdout",
     "output_type": "stream",
     "text": [
      "score (r square): 0.700599606382408\n",
      "coef: [ 0.          2.80601494 -0.17189424]\n",
      "intercept: -9.210815856143169\n"
     ]
    }
   ],
   "source": [
    "SUB = str.maketrans(\"0123456789\", \"₀₁₂₃₄₅₆₇₈₉\") # used to create subscript so it's pretty\n",
    "print('score (r square):', reg.score(X_, y))\n",
    "print('coef:', reg.coef_)\n",
    "print('intercept:', reg.intercept_)"
   ]
  },
  {
   "cell_type": "code",
   "execution_count": 73,
   "id": "6fbfcbd6-bf90-4840-b8b0-90c3fa605e76",
   "metadata": {},
   "outputs": [],
   "source": [
    "plt_x = np.linspace(X[:,0].min(), X[:,0].max(), 500).reshape(-1,1)\n",
    "plt_x_squared= poly.fit_transform(plt_x)\n",
    "y_pred = reg.predict(plt_x_squared)"
   ]
  },
  {
   "cell_type": "code",
   "execution_count": 79,
   "id": "738608a8-84c3-44d1-9b03-6d7741651a23",
   "metadata": {},
   "outputs": [
    {
     "data": {
      "text/plain": [
       "[<matplotlib.lines.Line2D at 0x7f6b5dfe2a60>]"
      ]
     },
     "execution_count": 79,
     "metadata": {},
     "output_type": "execute_result"
    },
    {
     "data": {
      "image/png": "[encoded data removed]",
      "text/plain": [
       "<Figure size 1080x360 with 2 Axes>"
      ]
     },
     "metadata": {
      "needs_background": "light"
     },
     "output_type": "display_data"
    }
   ],
   "source": [
    "fig, axs = plt.subplots(1,2, figsize=(15,5))\n",
    "for i in range(2):\n",
    "    axs[i].scatter(X, y)\n",
    "    axs[i].set_xlabel(iris['feature_names'][3])\n",
    "    axs[i].set_ylabel(iris['feature_names'][2])\n",
    "axs[0].scatter(plt_x, y_pred)\n",
    "axs[1].plot(plt_x, y_pred)\n"
   ]
  },
  {
   "cell_type": "code",
   "execution_count": null,
   "id": "ec6cf6d0-c528-489f-bad0-7a7ab12d0b84",
   "metadata": {},
   "outputs": [],
   "source": []
  },
  {
   "cell_type": "code",
   "execution_count": null,
   "id": "80955178-d999-4a78-9bc5-9501788f1d33",
   "metadata": {},
   "outputs": [],
   "source": []
  }
 ],
 "metadata": {
  "kernelspec": {
   "display_name": "Python 3 (ipykernel)",
   "language": "python",
   "name": "python3"
  },
  "language_info": {
   "codemirror_mode": {
    "name": "ipython",
    "version": 3
   },
   "file_extension": ".py",
   "mimetype": "text/x-python",
   "name": "python",
   "nbconvert_exporter": "python",
   "pygments_lexer": "ipython3",
   "version": "3.8.12"
  }
 },
 "nbformat": 4,
 "nbformat_minor": 5
}
