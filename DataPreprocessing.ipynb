{
 "cells": [
  {
   "cell_type": "markdown",
   "metadata": {},
   "source": [
    "# EXAMPLE OF DATA PRE-PROCESSING\n"
   ]
  },
  {
   "cell_type": "code",
   "execution_count": 1,
   "metadata": {},
   "outputs": [],
   "source": [
    "# We would need these libraries to manage our dataset\n",
    "# Numpy: used for large, multi-dimensional arrays and matrices, and for high-level mathematical functions\n",
    "# Pandas: used for data manipulation and analysis\n",
    "# matplotlib: used for visualisation and plotting graph/image/etc\n",
    "import numpy as np\n",
    "import pandas as pd\n",
    "import matplotlib.pyplot as plt"
   ]
  },
  {
   "cell_type": "markdown",
   "metadata": {},
   "source": [
    "## Iris Dataset"
   ]
  },
  {
   "cell_type": "markdown",
   "metadata": {},
   "source": [
    "The iris dataset is one of the simplest existing dataset, and probably the most known and used to start doing classification. It contains 150 data about 3 types of iris, 50 sample of each. \n",
    "\n",
    "More information here: https://scikit-learn.org/stable/datasets/toy_dataset.html#iris-dataset"
   ]
  },
  {
   "cell_type": "code",
   "execution_count": 2,
   "metadata": {},
   "outputs": [],
   "source": [
    "# Import the iris dataset from sklearn\n",
    "# https://scikit-learn.org/stable/modules/classes.html#module-sklearn.datasets\n",
    "from sklearn.datasets import load_iris\n",
    "# load the dataset\n",
    "iris = load_iris()\n",
    "# transform the dataset into a Pandas DataFrame to make it easier to display\n",
    "# it is not necessary to understand what is done here\n",
    "dataset = pd.DataFrame(data= np.column_stack([iris['data'], iris['target']]),\n",
    "                     columns= iris['feature_names'] + ['target'])"
   ]
  },
  {
   "cell_type": "markdown",
   "metadata": {},
   "source": [
    "We can observe that the dataset has 5 feature, one of them, the \"target\" being the label, that categorise the data.\n",
    "\n",
    "The 4 feature are all numerical and continuous."
   ]
  },
  {
   "cell_type": "code",
   "execution_count": 3,
   "metadata": {},
   "outputs": [
    {
     "data": {
      "text/html": [
       "<div>\n",
       "<style scoped>\n",
       "    .dataframe tbody tr th:only-of-type {\n",
       "        vertical-align: middle;\n",
       "    }\n",
       "\n",
       "    .dataframe tbody tr th {\n",
       "        vertical-align: top;\n",
       "    }\n",
       "\n",
       "    .dataframe thead th {\n",
       "        text-align: right;\n",
       "    }\n",
       "</style>\n",
       "<table border=\"1\" class=\"dataframe\">\n",
       "  <thead>\n",
       "    <tr style=\"text-align: right;\">\n",
       "      <th></th>\n",
       "      <th>sepal length (cm)</th>\n",
       "      <th>sepal width (cm)</th>\n",
       "      <th>petal length (cm)</th>\n",
       "      <th>petal width (cm)</th>\n",
       "      <th>target</th>\n",
       "    </tr>\n",
       "  </thead>\n",
       "  <tbody>\n",
       "    <tr>\n",
       "      <th>0</th>\n",
       "      <td>5.1</td>\n",
       "      <td>3.5</td>\n",
       "      <td>1.4</td>\n",
       "      <td>0.2</td>\n",
       "      <td>0.0</td>\n",
       "    </tr>\n",
       "    <tr>\n",
       "      <th>1</th>\n",
       "      <td>4.9</td>\n",
       "      <td>3.0</td>\n",
       "      <td>1.4</td>\n",
       "      <td>0.2</td>\n",
       "      <td>0.0</td>\n",
       "    </tr>\n",
       "    <tr>\n",
       "      <th>2</th>\n",
       "      <td>4.7</td>\n",
       "      <td>3.2</td>\n",
       "      <td>1.3</td>\n",
       "      <td>0.2</td>\n",
       "      <td>0.0</td>\n",
       "    </tr>\n",
       "    <tr>\n",
       "      <th>3</th>\n",
       "      <td>4.6</td>\n",
       "      <td>3.1</td>\n",
       "      <td>1.5</td>\n",
       "      <td>0.2</td>\n",
       "      <td>0.0</td>\n",
       "    </tr>\n",
       "    <tr>\n",
       "      <th>4</th>\n",
       "      <td>5.0</td>\n",
       "      <td>3.6</td>\n",
       "      <td>1.4</td>\n",
       "      <td>0.2</td>\n",
       "      <td>0.0</td>\n",
       "    </tr>\n",
       "  </tbody>\n",
       "</table>\n",
       "</div>"
      ],
      "text/plain": [
       "   sepal length (cm)  sepal width (cm)  petal length (cm)  petal width (cm)  \\\n",
       "0                5.1               3.5                1.4               0.2   \n",
       "1                4.9               3.0                1.4               0.2   \n",
       "2                4.7               3.2                1.3               0.2   \n",
       "3                4.6               3.1                1.5               0.2   \n",
       "4                5.0               3.6                1.4               0.2   \n",
       "\n",
       "   target  \n",
       "0     0.0  \n",
       "1     0.0  \n",
       "2     0.0  \n",
       "3     0.0  \n",
       "4     0.0  "
      ]
     },
     "execution_count": 3,
     "metadata": {},
     "output_type": "execute_result"
    }
   ],
   "source": [
    "# Head visualise the five first rows of your dataset\n",
    "dataset.head()"
   ]
  },
  {
   "cell_type": "markdown",
   "metadata": {},
   "source": [
    "We know what kind of value are stored in our datatset, with what kind of features, but we don't know what it looks like. This is where visualisation tools help us.\n",
    "\n",
    "We can observe that one of the class is linearly separable from the 2 others."
   ]
  },
  {
   "cell_type": "code",
   "execution_count": 4,
   "metadata": {},
   "outputs": [
    {
     "data": {
      "text/plain": [
       "[]"
      ]
     },
     "execution_count": 4,
     "metadata": {},
     "output_type": "execute_result"
    },
    {
     "data": {
      "image/png": "[encoded data removed]",
      "text/plain": [
       "<Figure size 1008x648 with 6 Axes>"
      ]
     },
     "metadata": {
      "needs_background": "light"
     },
     "output_type": "display_data"
    }
   ],
   "source": [
    "fig, axs = plt.subplots(2,3, figsize=(14,9))\n",
    "color = ['tab:blue', 'tab:orange', 'tab:green']\n",
    "for i in np.unique(dataset['target']):\n",
    "    idx = dataset['target'] == i\n",
    "    axs[0][0].scatter(dataset['sepal length (cm)'][idx], dataset['sepal width (cm)'][idx], c=color[int(i)], label=i)\n",
    "    axs[0][1].scatter(dataset['sepal length (cm)'][idx], dataset['petal length (cm)'][idx], c=color[int(i)], label=i)\n",
    "    axs[0][2].scatter(dataset['sepal length (cm)'][idx], dataset['petal width (cm)'][idx], c=color[int(i)], label=i)\n",
    "    axs[1][0].scatter(dataset['sepal width (cm)'][idx], dataset['petal length (cm)'][idx], c=color[int(i)], label=i)\n",
    "    axs[1][1].scatter(dataset['sepal width (cm)'][idx], dataset['petal width (cm)'][idx], c=color[int(i)], label=i)\n",
    "    axs[1][2].scatter(dataset['petal length (cm)'][idx], dataset['petal width (cm)'][idx], c=color[int(i)], label=i)\n",
    "# label\n",
    "for i in range(3):\n",
    "    axs[0][i].set_xlabel('sepal length (cm)')\n",
    "for i in range(2):\n",
    "    axs[1][i].set_xlabel('sepal width (cm)')\n",
    "axs[1][2].set_xlabel('petal length (cm)')\n",
    "axs[0][0].set_ylabel('sepal width (cm)')\n",
    "axs[0][1].set_ylabel('petal length (cm)')\n",
    "axs[0][2].set_ylabel('petal width (cm)')\n",
    "axs[1][0].set_ylabel('petal length (cm)')\n",
    "axs[1][1].set_ylabel('petal width (cm)')\n",
    "axs[1][2].set_ylabel('petal width (cm)')\n",
    "for i in range(3):\n",
    "    for j in range(2):\n",
    "        axs[j][i].legend()\n",
    "plt.plot()    "
   ]
  },
  {
   "cell_type": "markdown",
   "metadata": {},
   "source": [
    "Continuous are easily visualised using histogram. Here is a simple example, using arbitrarily. "
   ]
  },
  {
   "cell_type": "code",
   "execution_count": 5,
   "metadata": {},
   "outputs": [
    {
     "data": {
      "text/plain": [
       "[]"
      ]
     },
     "execution_count": 5,
     "metadata": {},
     "output_type": "execute_result"
    },
    {
     "data": {
      "image/png": "[encoded data removed]",
      "text/plain": [
       "<Figure size 432x288 with 1 Axes>"
      ]
     },
     "metadata": {
      "needs_background": "light"
     },
     "output_type": "display_data"
    }
   ],
   "source": [
    "plt.hist(dataset['sepal length (cm)'], bins=20)\n",
    "plt.title('sepal length histogram')\n",
    "plt.plot()"
   ]
  },
  {
   "cell_type": "markdown",
   "metadata": {},
   "source": [
    "## Titanic dataset"
   ]
  },
  {
   "cell_type": "code",
   "execution_count": 53,
   "metadata": {},
   "outputs": [],
   "source": [
    "'''\n",
    "This line will allow us to load the dataset\n",
    "The dataset should be in a CSV format\n",
    "A CSV file is a delimited text file that uses a comma to separate values. \n",
    "Each line of the file is a data record.\n",
    "''' \n",
    "# header: indicates if the dataset has an initial line with the name of each column\n",
    "# 0 is the index of the first row\n",
    "dataset = pd.read_csv('./dataset/titanic.csv', header=0)"
   ]
  },
  {
   "cell_type": "markdown",
   "metadata": {},
   "source": [
    "This time we have more feature, and they are not all numerical nor continuous.\n",
    "- Survived: Nominal\n",
    "- Pclass: Nominal (or ordinal if you consider that the class can be ranked)\n",
    "- Name: Nominal\n",
    "- Sex: Nominal\n",
    "- Age: Continuous(ish)\n",
    "- Siblings/Spouses Aboard: Discrete\n",
    "- Parents/Children Aboard: Discrete\n",
    "- Fare: Continuous"
   ]
  },
  {
   "cell_type": "code",
   "execution_count": 7,
   "metadata": {},
   "outputs": [
    {
     "data": {
      "text/html": [
       "<div>\n",
       "<style scoped>\n",
       "    .dataframe tbody tr th:only-of-type {\n",
       "        vertical-align: middle;\n",
       "    }\n",
       "\n",
       "    .dataframe tbody tr th {\n",
       "        vertical-align: top;\n",
       "    }\n",
       "\n",
       "    .dataframe thead th {\n",
       "        text-align: right;\n",
       "    }\n",
       "</style>\n",
       "<table border=\"1\" class=\"dataframe\">\n",
       "  <thead>\n",
       "    <tr style=\"text-align: right;\">\n",
       "      <th></th>\n",
       "      <th>Survived</th>\n",
       "      <th>Pclass</th>\n",
       "      <th>Name</th>\n",
       "      <th>Sex</th>\n",
       "      <th>Age</th>\n",
       "      <th>Siblings/Spouses Aboard</th>\n",
       "      <th>Parents/Children Aboard</th>\n",
       "      <th>Fare</th>\n",
       "    </tr>\n",
       "  </thead>\n",
       "  <tbody>\n",
       "    <tr>\n",
       "      <th>0</th>\n",
       "      <td>0</td>\n",
       "      <td>3</td>\n",
       "      <td>Mr. Owen Harris Braund</td>\n",
       "      <td>male</td>\n",
       "      <td>22.0</td>\n",
       "      <td>1</td>\n",
       "      <td>0</td>\n",
       "      <td>7.2500</td>\n",
       "    </tr>\n",
       "    <tr>\n",
       "      <th>1</th>\n",
       "      <td>1</td>\n",
       "      <td>1</td>\n",
       "      <td>Mrs. John Bradley (Florence Briggs Thayer) Cum...</td>\n",
       "      <td>female</td>\n",
       "      <td>38.0</td>\n",
       "      <td>1</td>\n",
       "      <td>0</td>\n",
       "      <td>71.2833</td>\n",
       "    </tr>\n",
       "    <tr>\n",
       "      <th>2</th>\n",
       "      <td>1</td>\n",
       "      <td>3</td>\n",
       "      <td>Miss. Laina Heikkinen</td>\n",
       "      <td>female</td>\n",
       "      <td>26.0</td>\n",
       "      <td>0</td>\n",
       "      <td>0</td>\n",
       "      <td>7.9250</td>\n",
       "    </tr>\n",
       "    <tr>\n",
       "      <th>3</th>\n",
       "      <td>1</td>\n",
       "      <td>1</td>\n",
       "      <td>Mrs. Jacques Heath (Lily May Peel) Futrelle</td>\n",
       "      <td>female</td>\n",
       "      <td>35.0</td>\n",
       "      <td>1</td>\n",
       "      <td>0</td>\n",
       "      <td>53.1000</td>\n",
       "    </tr>\n",
       "    <tr>\n",
       "      <th>4</th>\n",
       "      <td>0</td>\n",
       "      <td>3</td>\n",
       "      <td>Mr. William Henry Allen</td>\n",
       "      <td>male</td>\n",
       "      <td>35.0</td>\n",
       "      <td>0</td>\n",
       "      <td>0</td>\n",
       "      <td>8.0500</td>\n",
       "    </tr>\n",
       "  </tbody>\n",
       "</table>\n",
       "</div>"
      ],
      "text/plain": [
       "   Survived  Pclass                                               Name  \\\n",
       "0         0       3                             Mr. Owen Harris Braund   \n",
       "1         1       1  Mrs. John Bradley (Florence Briggs Thayer) Cum...   \n",
       "2         1       3                              Miss. Laina Heikkinen   \n",
       "3         1       1        Mrs. Jacques Heath (Lily May Peel) Futrelle   \n",
       "4         0       3                            Mr. William Henry Allen   \n",
       "\n",
       "      Sex   Age  Siblings/Spouses Aboard  Parents/Children Aboard     Fare  \n",
       "0    male  22.0                        1                        0   7.2500  \n",
       "1  female  38.0                        1                        0  71.2833  \n",
       "2  female  26.0                        0                        0   7.9250  \n",
       "3  female  35.0                        1                        0  53.1000  \n",
       "4    male  35.0                        0                        0   8.0500  "
      ]
     },
     "execution_count": 7,
     "metadata": {},
     "output_type": "execute_result"
    }
   ],
   "source": [
    "# Head visualise the five first rows of your dataset\n",
    "dataset.head()"
   ]
  },
  {
   "cell_type": "code",
   "execution_count": 8,
   "metadata": {},
   "outputs": [
    {
     "name": "stdout",
     "output_type": "stream",
     "text": [
      "         Survived      Pclass         Age  Siblings/Spouses Aboard  \\\n",
      "count  887.000000  887.000000  887.000000               887.000000   \n",
      "mean     0.385569    2.305524   29.471443                 0.525366   \n",
      "std      0.487004    0.836662   14.121908                 1.104669   \n",
      "min      0.000000    1.000000    0.420000                 0.000000   \n",
      "25%      0.000000    2.000000   20.250000                 0.000000   \n",
      "50%      0.000000    3.000000   28.000000                 0.000000   \n",
      "75%      1.000000    3.000000   38.000000                 1.000000   \n",
      "max      1.000000    3.000000   80.000000                 8.000000   \n",
      "\n",
      "       Parents/Children Aboard       Fare  \n",
      "count               887.000000  887.00000  \n",
      "mean                  0.383315   32.30542  \n",
      "std                   0.807466   49.78204  \n",
      "min                   0.000000    0.00000  \n",
      "25%                   0.000000    7.92500  \n",
      "50%                   0.000000   14.45420  \n",
      "75%                   0.000000   31.13750  \n",
      "max                   6.000000  512.32920  \n"
     ]
    }
   ],
   "source": [
    "'''\n",
    "First, we will try to 'visualise' the dataset, by looking at the data\n",
    "'''\n",
    "# describe shows us a nice summary of descriptive statistics for each of the columns\n",
    "print(dataset.describe())"
   ]
  },
  {
   "cell_type": "markdown",
   "metadata": {},
   "source": [
    "Note that columns are shown from zero to N-1\n",
    "* Count: gives us the number of rows in the dataset\n",
    "* Mean: mean of all the values in each column\n",
    "* std: standard deviation\n",
    "* min, max: minimum and maximum values\n",
    "* 25%, 50%, and 75%: the 25th, 50th, and 75th percentiles, which is the same than quantile 1, quantile 2, and quantile 3"
   ]
  },
  {
   "cell_type": "code",
   "execution_count": 9,
   "metadata": {},
   "outputs": [
    {
     "name": "stdout",
     "output_type": "stream",
     "text": [
      "Survived: [0 1]\n",
      "Pclass: [1 2 3]\n",
      "Sex: ['female' 'male']\n",
      "Age: [0.42 -- 80.0]\n",
      "Siblings/Spouses Aboard: [0 1 2 3 4 5 8]\n",
      "Parents/Children Aboard: [0 1 2 3 4 5 6]\n",
      "Fare: [0.0 -- 512.3292]\n"
     ]
    }
   ],
   "source": [
    "\"\"\"\n",
    "You can also do something similar by hand, if you want to easily see all possible value\n",
    "of categorical variable or the range of numerical variable\n",
    "\"\"\"\n",
    "for i in dataset.columns:\n",
    "    if i != 'Name':\n",
    "        tmp = np.unique(dataset[i])\n",
    "        if len(tmp) > 20:\n",
    "            print(f'{i}: [{tmp[0]} -- {tmp[-1]}]')\n",
    "        else:\n",
    "            print(f'{i}: {tmp}')"
   ]
  },
  {
   "cell_type": "markdown",
   "metadata": {},
   "source": [
    "Again we want to get a visual understanding of our dataset. However the data is not anymore just some float value. We have a lot of nominal value for example. Also, we have 7 feature and the target, which means we have to chose what to plot, because we can't have 3000 plot to visualize."
   ]
  },
  {
   "cell_type": "markdown",
   "metadata": {},
   "source": [
    "We can still use histogram to visualise any type of value. For numerical it's useful to visualise the distribution."
   ]
  },
  {
   "cell_type": "code",
   "execution_count": 10,
   "metadata": {},
   "outputs": [
    {
     "data": {
      "text/plain": [
       "array([[<AxesSubplot:title={'center':'Age'}>]], dtype=object)"
      ]
     },
     "execution_count": 10,
     "metadata": {},
     "output_type": "execute_result"
    },
    {
     "data": {
      "image/png": "[encoded data removed]",
      "text/plain": [
       "<Figure size 432x288 with 1 Axes>"
      ]
     },
     "metadata": {
      "needs_background": "light"
     },
     "output_type": "display_data"
    }
   ],
   "source": [
    "# we compute the range of age between the maximum and minimum value\n",
    "age_range = int(dataset['Age'].max() - dataset['Age'].min())\n",
    "dataset.hist(column='Age', bins=80)"
   ]
  },
  {
   "cell_type": "markdown",
   "metadata": {},
   "source": [
    "Pie chart are not often use for visualisation, but can be also made in python. They can be useful when you have a small set of value to have a visual of how they are distributed"
   ]
  },
  {
   "cell_type": "code",
   "execution_count": 11,
   "metadata": {},
   "outputs": [
    {
     "name": "stdout",
     "output_type": "stream",
     "text": [
      "['female' 'male'] [314 573]\n"
     ]
    },
    {
     "data": {
      "text/plain": [
       "[]"
      ]
     },
     "execution_count": 11,
     "metadata": {},
     "output_type": "execute_result"
    },
    {
     "data": {
      "image/png": "[encoded data removed]",
      "text/plain": [
       "<Figure size 432x288 with 1 Axes>"
      ]
     },
     "metadata": {},
     "output_type": "display_data"
    }
   ],
   "source": [
    "lb, x = np.unique(dataset['Sex'], return_counts=True)\n",
    "print(lb, x)\n",
    "fig = plt.figure()\n",
    "fig.patch.set_facecolor('white')\n",
    "plt.pie(x, labels=lb)\n",
    "plt.plot()"
   ]
  },
  {
   "cell_type": "markdown",
   "metadata": {},
   "source": [
    "Scatter plot are usually good when visuallising continuous data. They can work with discrete value if there's a high number of value, but the less value the more useless it is"
   ]
  },
  {
   "cell_type": "code",
   "execution_count": 12,
   "metadata": {},
   "outputs": [
    {
     "data": {
      "text/plain": [
       "<AxesSubplot:xlabel='Age', ylabel='Siblings/Spouses Aboard'>"
      ]
     },
     "execution_count": 12,
     "metadata": {},
     "output_type": "execute_result"
    },
    {
     "data": {
      "image/png": "[encoded data removed]",
      "text/plain": [
       "<Figure size 432x288 with 1 Axes>"
      ]
     },
     "metadata": {
      "needs_background": "light"
     },
     "output_type": "display_data"
    },
    {
     "data": {
      "image/png": "[encoded data removed]",
      "text/plain": [
       "<Figure size 432x288 with 1 Axes>"
      ]
     },
     "metadata": {
      "needs_background": "light"
     },
     "output_type": "display_data"
    }
   ],
   "source": [
    "dataset.plot.scatter(x='Fare', y='Age')\n",
    "dataset.plot.scatter(x='Age', y='Siblings/Spouses Aboard')"
   ]
  },
  {
   "cell_type": "markdown",
   "metadata": {},
   "source": [
    "Pandas has some easy way to plot multi variable histogram"
   ]
  },
  {
   "cell_type": "code",
   "execution_count": 13,
   "metadata": {},
   "outputs": [
    {
     "name": "stdout",
     "output_type": "stream",
     "text": [
      "['female' 'male']\n"
     ]
    }
   ],
   "source": [
    "u = np.unique(dataset['Sex'])\n",
    "print(u)\n",
    "dataset_2 = dataset.copy(True)\n",
    "for i in range(len(u)):\n",
    "    dataset_2 = dataset['Sex'].replace(u[i], i)"
   ]
  },
  {
   "cell_type": "markdown",
   "metadata": {},
   "source": [
    "However if you prefer to have them on the same histogram, it is a bit harder. The visualisation is here to help you understand the data, so the above one is fine. If you want to use graph for a presentation, you may want to spend more time doing proper graph."
   ]
  },
  {
   "cell_type": "code",
   "execution_count": 14,
   "metadata": {},
   "outputs": [
    {
     "data": {
      "text/plain": [
       "[]"
      ]
     },
     "execution_count": 14,
     "metadata": {},
     "output_type": "execute_result"
    },
    {
     "data": {
      "image/png": "[encoded data removed]",
      "text/plain": [
       "<Figure size 432x288 with 1 Axes>"
      ]
     },
     "metadata": {
      "needs_background": "light"
     },
     "output_type": "display_data"
    }
   ],
   "source": [
    "counts = dataset.pivot(columns='Sex').Survived\n",
    "ax = plt.subplot(111)\n",
    "ax.set_xticks([0,1])\n",
    "ax.set_xticklabels(['Dead', 'Alive'])\n",
    "counts.plot(kind='hist', stacked=True, title='Stacked histogram of survivor by sex', ax = ax)\n",
    "plt.plot()"
   ]
  },
  {
   "cell_type": "markdown",
   "metadata": {},
   "source": [
    "In the same way we just plot an histogram with 2 binary variable, we can plot one with variable that have a bigger set of possible value."
   ]
  },
  {
   "cell_type": "code",
   "execution_count": 15,
   "metadata": {},
   "outputs": [
    {
     "data": {
      "text/plain": [
       "[]"
      ]
     },
     "execution_count": 15,
     "metadata": {},
     "output_type": "execute_result"
    },
    {
     "data": {
      "image/png": "[encoded data removed]",
      "text/plain": [
       "<Figure size 432x288 with 1 Axes>"
      ]
     },
     "metadata": {
      "needs_background": "light"
     },
     "output_type": "display_data"
    }
   ],
   "source": [
    "counts = dataset.pivot(columns='Parents/Children Aboard')['Siblings/Spouses Aboard']\n",
    "ax = plt.subplot(111)\n",
    "ax.set_xlabel('Siblings/Spouses Aboard')\n",
    "counts.plot(kind='hist', stacked=True, title='Stacked histogram of parents/children aboard by sublings/spouses aboard', ax = ax)\n",
    "plt.plot()"
   ]
  },
  {
   "cell_type": "markdown",
   "metadata": {},
   "source": [
    "We can see there is a few people that have \"8\" siblings/spouses on board. If we take a closer look, we can deduce that there's is probably 7 brother and sister and each of them has a spouses. "
   ]
  },
  {
   "cell_type": "code",
   "execution_count": 16,
   "metadata": {},
   "outputs": [
    {
     "name": "stdout",
     "output_type": "stream",
     "text": [
      "s/s: 0 nb: 604\n",
      "s/s: 1 nb: 209\n",
      "s/s: 2 nb: 28\n",
      "s/s: 3 nb: 16\n",
      "s/s: 4 nb: 18\n",
      "s/s: 5 nb: 5\n",
      "s/s: 8 nb: 7\n"
     ]
    }
   ],
   "source": [
    "for u, c in zip(*np.unique(dataset['Siblings/Spouses Aboard'], return_counts=True)):\n",
    "    print('s/s:', u, 'nb:', c)"
   ]
  },
  {
   "cell_type": "markdown",
   "metadata": {},
   "source": [
    "We saw earlier how to plot stacked histogram for multiple variable. However, you may sometimes want to have non stacked histogram. The different plot come with different visual bias made by the brain when interpreting the plot. \n",
    "\n",
    "The function used here is a bit more complex than the previous one, but this way we can generate non stacked histogram, which we can't with the way we did before. "
   ]
  },
  {
   "cell_type": "code",
   "execution_count": 17,
   "metadata": {},
   "outputs": [
    {
     "data": {
      "text/plain": [
       "[]"
      ]
     },
     "execution_count": 17,
     "metadata": {},
     "output_type": "execute_result"
    },
    {
     "data": {
      "image/png": "[encoded data removed]",
      "text/plain": [
       "<Figure size 648x360 with 2 Axes>"
      ]
     },
     "metadata": {
      "needs_background": "light"
     },
     "output_type": "display_data"
    }
   ],
   "source": [
    "counts = dataset.groupby(['Sex'], as_index=False)\n",
    "fig, axs = plt.subplots(1,2, figsize=(9,5))\n",
    "axs[0].hist([i[1]['Survived'] for i in counts], stacked=True, label=[i[0] for i in counts])\n",
    "axs[1].hist([i[1]['Survived'] for i in counts], stacked=False, label=[i[0] for i in counts])\n",
    "# sugar style\n",
    "axs[0].set_title('stacked histogram of survivor by sex')\n",
    "axs[1].set_title('non stacked histogram of survivor by sex')\n",
    "axs[0].legend()\n",
    "axs[1].legend()\n",
    "axs[0].set_xticks([0,1])\n",
    "axs[0].set_xticklabels(['Dead', 'Alive'])\n",
    "axs[1].set_xticks([0,1])\n",
    "axs[1].set_xticklabels(['Dead', 'Alive'])\n",
    "plt.plot()"
   ]
  },
  {
   "cell_type": "markdown",
   "metadata": {},
   "source": [
    "Another example of the difference of representation of the same information"
   ]
  },
  {
   "cell_type": "code",
   "execution_count": 18,
   "metadata": {},
   "outputs": [
    {
     "data": {
      "text/plain": [
       "[]"
      ]
     },
     "execution_count": 18,
     "metadata": {},
     "output_type": "execute_result"
    },
    {
     "data": {
      "image/png": "[encoded data removed]",
      "text/plain": [
       "<Figure size 792x360 with 2 Axes>"
      ]
     },
     "metadata": {
      "needs_background": "light"
     },
     "output_type": "display_data"
    }
   ],
   "source": [
    "counts = dataset.groupby(['Survived'], as_index=False)\n",
    "fig, axs = plt.subplots(1,2, figsize=(11,5))\n",
    "axs[0].hist([i[1]['Age'] for i in counts], stacked=True, label=[['Dead', 'Survived'][i[0]] for i in counts], bins=20)\n",
    "axs[1].hist([i[1]['Age'] for i in counts], stacked=False, label=[['Dead', 'Survived'][i[0]] for i in counts], bins=20)\n",
    "# sugar style\n",
    "axs[0].set_title('stacked histogram of age by survivor')\n",
    "axs[1].set_title('non stacked histogram of age by survivor')\n",
    "axs[0].legend()\n",
    "axs[1].legend()\n",
    "plt.plot()"
   ]
  },
  {
   "cell_type": "markdown",
   "metadata": {},
   "source": [
    "Here is a fancy plot with a lot of information."
   ]
  },
  {
   "cell_type": "code",
   "execution_count": 19,
   "metadata": {},
   "outputs": [
    {
     "data": {
      "image/png": "[encoded data removed]",
      "text/plain": [
       "<Figure size 864x864 with 4 Axes>"
      ]
     },
     "metadata": {
      "needs_background": "light"
     },
     "output_type": "display_data"
    }
   ],
   "source": [
    "counts = dataset.groupby(['Survived', 'Sex'], as_index=False)\n",
    "fig, axs = plt.subplots(2,2, figsize=(12,12))\n",
    "axs[0][0].hist([i[1]['Age'] for i in counts], stacked=True, label=[['Dead', 'Survived'][i[0][0]] + ' ' + i[0][1] for i in counts], bins=8)\n",
    "axs[1][0].hist([i[1]['Age'] for i in counts], stacked=True, label=[['Dead', 'Survived'][i[0][0]] + ' ' + i[0][1] for i in counts], bins=20)\n",
    "axs[0][1].hist([i[1]['Age'] for i in counts], stacked=True, label=[['Dead', 'Survived'][i[0][0]] + ' ' + i[0][1] for i in counts], bins=40)\n",
    "axs[1][1].hist([i[1]['Age'] for i in counts], stacked=True, label=[['Dead', 'Survived'][i[0][0]] + ' ' + i[0][1] for i in counts], bins=80)\n",
    "\n",
    "for i in range(2):\n",
    "    for j in range(2):\n",
    "        axs[i][j].legend()\n",
    "        axs[i][j].set_title('Age detailed for sex and surviving condition')\n",
    "        axs[i][j].set_ylabel('Frequency')\n",
    "        axs[i][j].set_xlabel('Age')"
   ]
  },
  {
   "cell_type": "markdown",
   "metadata": {},
   "source": [
    "The only mativation to show this function is that it his very cool and interesting"
   ]
  },
  {
   "cell_type": "code",
   "execution_count": 54,
   "metadata": {},
   "outputs": [
    {
     "data": {
      "text/plain": [
       "[]"
      ]
     },
     "execution_count": 54,
     "metadata": {},
     "output_type": "execute_result"
    },
    {
     "data": {
      "image/png": "[encoded data removed]",
      "text/plain": [
       "<Figure size 432x288 with 2 Axes>"
      ]
     },
     "metadata": {
      "needs_background": "light"
     },
     "output_type": "display_data"
    }
   ],
   "source": [
    "plt.hist2d(dataset['Survived'], dataset['Age'], alpha=0.9)\n",
    "plt.xticks([0,1], ['Dead', 'Alive'])\n",
    "plt.ylabel('Age')\n",
    "plt.colorbar()\n",
    "plt.title('2d histogram of the age by surviving condition')\n",
    "plt.plot()"
   ]
  },
  {
   "cell_type": "markdown",
   "metadata": {},
   "source": [
    "The example below is to show another example of multiple graph sharing the same information, but displayed differently."
   ]
  },
  {
   "cell_type": "code",
   "execution_count": 23,
   "metadata": {},
   "outputs": [
    {
     "data": {
      "text/plain": [
       "[]"
      ]
     },
     "execution_count": 23,
     "metadata": {},
     "output_type": "execute_result"
    },
    {
     "data": {
      "image/png": "[encoded data removed]",
      "text/plain": [
       "<Figure size 792x360 with 2 Axes>"
      ]
     },
     "metadata": {
      "needs_background": "light"
     },
     "output_type": "display_data"
    }
   ],
   "source": [
    "counts1 = dataset.groupby(['Survived'], as_index=False)\n",
    "counts2 = dataset.groupby(['Pclass'], as_index=False)\n",
    "fig, axs = plt.subplots(1,2, figsize=(11,5))\n",
    "axs[0].hist([i[1]['Pclass'] for i in counts1], stacked=True, label=[['Dead', 'Survived'][i[0]] for i in counts1], bins=20)\n",
    "axs[1].hist([i[1]['Survived'] for i in counts2], stacked=True, label=[i[0] for i in counts2], bins=20)\n",
    "# sugar style\n",
    "axs[0].set_title('stacked histogram of passenger class by survivor')\n",
    "axs[1].set_title('stacked histogram of survivor by passenger class')\n",
    "axs[0].legend(title='Condition')\n",
    "axs[1].legend(title='Class')\n",
    "axs[1].set_xticks([0,1])\n",
    "axs[1].set_xticklabels(['Dead', 'Alive'])\n",
    "axs[0].set_xticks([1,2,3])\n",
    "axs[0].set_xticklabels(['1st class','2nd class','3rd class'])\n",
    "plt.plot()"
   ]
  },
  {
   "cell_type": "markdown",
   "metadata": {},
   "source": [
    "NEW DATA"
   ]
  },
  {
   "cell_type": "code",
   "execution_count": 74,
   "metadata": {},
   "outputs": [],
   "source": [
    "'''\n",
    "This line will allow us to load the dataset\n",
    "The dataset should be in a CSV format\n",
    "A CSV file is a delimited text file that uses a comma to separate values. \n",
    "Each line of the file is a data record.\n",
    "''' \n",
    "# header: indicates if the dataset has an initial line with the name of each column\n",
    "dataset = pd.read_csv('pima-indians-diabetes.csv', header=None)"
   ]
  },
  {
   "cell_type": "markdown",
   "metadata": {},
   "source": [
    "Attributes of the dataset: (all numeric-valued with no header)\n",
    "\n",
    "1. Number of times pregnant\n",
    "2. Plasma glucose concentration a 2 hours in an oral glucose tolerance test\n",
    "3. Diastolic blood pressure (mm Hg)\n",
    "4. Triceps skin fold thickness (mm)\n",
    "5. 2-Hour serum insulin (mu U/ml)\n",
    "6. Body mass index (weight in kg/(height in m)^2)\n",
    "7. Diabetes pedigree function\n",
    "8. Age (years) \n",
    "9. Class variable (0 or 1) where class value 1 is interpreted as \"tested positive for diabetes\"\n",
    "\n"
   ]
  },
  {
   "cell_type": "code",
   "execution_count": 59,
   "metadata": {},
   "outputs": [
    {
     "data": {
      "text/html": [
       "<div>\n",
       "<style scoped>\n",
       "    .dataframe tbody tr th:only-of-type {\n",
       "        vertical-align: middle;\n",
       "    }\n",
       "\n",
       "    .dataframe tbody tr th {\n",
       "        vertical-align: top;\n",
       "    }\n",
       "\n",
       "    .dataframe thead th {\n",
       "        text-align: right;\n",
       "    }\n",
       "</style>\n",
       "<table border=\"1\" class=\"dataframe\">\n",
       "  <thead>\n",
       "    <tr style=\"text-align: right;\">\n",
       "      <th></th>\n",
       "      <th>0</th>\n",
       "      <th>1</th>\n",
       "      <th>2</th>\n",
       "      <th>3</th>\n",
       "      <th>4</th>\n",
       "      <th>5</th>\n",
       "      <th>6</th>\n",
       "      <th>7</th>\n",
       "      <th>8</th>\n",
       "    </tr>\n",
       "  </thead>\n",
       "  <tbody>\n",
       "    <tr>\n",
       "      <th>0</th>\n",
       "      <td>6</td>\n",
       "      <td>148</td>\n",
       "      <td>72</td>\n",
       "      <td>35</td>\n",
       "      <td>0</td>\n",
       "      <td>33.6</td>\n",
       "      <td>0.627</td>\n",
       "      <td>50</td>\n",
       "      <td>1</td>\n",
       "    </tr>\n",
       "    <tr>\n",
       "      <th>1</th>\n",
       "      <td>1</td>\n",
       "      <td>85</td>\n",
       "      <td>66</td>\n",
       "      <td>29</td>\n",
       "      <td>0</td>\n",
       "      <td>26.6</td>\n",
       "      <td>0.351</td>\n",
       "      <td>31</td>\n",
       "      <td>0</td>\n",
       "    </tr>\n",
       "    <tr>\n",
       "      <th>2</th>\n",
       "      <td>8</td>\n",
       "      <td>183</td>\n",
       "      <td>64</td>\n",
       "      <td>0</td>\n",
       "      <td>0</td>\n",
       "      <td>23.3</td>\n",
       "      <td>0.672</td>\n",
       "      <td>32</td>\n",
       "      <td>1</td>\n",
       "    </tr>\n",
       "    <tr>\n",
       "      <th>3</th>\n",
       "      <td>1</td>\n",
       "      <td>89</td>\n",
       "      <td>66</td>\n",
       "      <td>23</td>\n",
       "      <td>94</td>\n",
       "      <td>28.1</td>\n",
       "      <td>0.167</td>\n",
       "      <td>21</td>\n",
       "      <td>0</td>\n",
       "    </tr>\n",
       "    <tr>\n",
       "      <th>4</th>\n",
       "      <td>0</td>\n",
       "      <td>137</td>\n",
       "      <td>40</td>\n",
       "      <td>35</td>\n",
       "      <td>168</td>\n",
       "      <td>43.1</td>\n",
       "      <td>2.288</td>\n",
       "      <td>33</td>\n",
       "      <td>1</td>\n",
       "    </tr>\n",
       "  </tbody>\n",
       "</table>\n",
       "</div>"
      ],
      "text/plain": [
       "   0    1   2   3    4     5      6   7  8\n",
       "0  6  148  72  35    0  33.6  0.627  50  1\n",
       "1  1   85  66  29    0  26.6  0.351  31  0\n",
       "2  8  183  64   0    0  23.3  0.672  32  1\n",
       "3  1   89  66  23   94  28.1  0.167  21  0\n",
       "4  0  137  40  35  168  43.1  2.288  33  1"
      ]
     },
     "execution_count": 59,
     "metadata": {},
     "output_type": "execute_result"
    }
   ],
   "source": [
    "# Head visualise the five first rows of your dataset\n",
    "dataset.head()"
   ]
  },
  {
   "cell_type": "code",
   "execution_count": 60,
   "metadata": {},
   "outputs": [
    {
     "name": "stdout",
     "output_type": "stream",
     "text": [
      "                0           1           2           3           4           5  \\\n",
      "count  768.000000  768.000000  768.000000  768.000000  768.000000  768.000000   \n",
      "mean     3.845052  120.894531   69.105469   20.536458   79.799479   31.992578   \n",
      "std      3.369578   31.972618   19.355807   15.952218  115.244002    7.884160   \n",
      "min      0.000000    0.000000    0.000000    0.000000    0.000000    0.000000   \n",
      "25%      1.000000   99.000000   62.000000    0.000000    0.000000   27.300000   \n",
      "50%      3.000000  117.000000   72.000000   23.000000   30.500000   32.000000   \n",
      "75%      6.000000  140.250000   80.000000   32.000000  127.250000   36.600000   \n",
      "max     17.000000  199.000000  122.000000   99.000000  846.000000   67.100000   \n",
      "\n",
      "                6           7           8  \n",
      "count  768.000000  768.000000  768.000000  \n",
      "mean     0.471876   33.240885    0.348958  \n",
      "std      0.331329   11.760232    0.476951  \n",
      "min      0.078000   21.000000    0.000000  \n",
      "25%      0.243750   24.000000    0.000000  \n",
      "50%      0.372500   29.000000    0.000000  \n",
      "75%      0.626250   41.000000    1.000000  \n",
      "max      2.420000   81.000000    1.000000  \n"
     ]
    }
   ],
   "source": [
    "'''\n",
    "First, we will try to 'visualise' the dataset\n",
    "'''\n",
    "# describe shows us a nice summary of descriptive statistics for each of the columns\n",
    "print(dataset.describe())"
   ]
  },
  {
   "cell_type": "code",
   "execution_count": 61,
   "metadata": {},
   "outputs": [],
   "source": [
    "'''\n",
    "There are missing observations for some columns that are marked as a zero value.\n",
    "Note that this does not include column 8, the class variable where zero indicates that the subject is not tested positive\n",
    "Note that the minimum value in column 6 and 7 is different than zero, then there is no missing values in these columns\n",
    "'''\n",
    "# replace: allow us to replace a given value with another one\n",
    "# In this case, we want to replace '0' values with 'nan'\n",
    "# In Pandas missing data is represented by the None object and nan (not a number)\n",
    "# Pandas treat None and NaN as essentially interchangeable for indicating missing or null values. \n",
    "dataset[[1,2,3,4,5]] = dataset[[1,2,3,4,5]].replace(0, np.nan)"
   ]
  },
  {
   "cell_type": "code",
   "execution_count": 62,
   "metadata": {},
   "outputs": [
    {
     "name": "stdout",
     "output_type": "stream",
     "text": [
      "0      0\n",
      "1      5\n",
      "2     35\n",
      "3    227\n",
      "4    374\n",
      "5     11\n",
      "6      0\n",
      "7      0\n",
      "8      0\n",
      "dtype: int64\n"
     ]
    }
   ],
   "source": [
    "'''\n",
    "We are going to count the number of NAN values in each column\n",
    "'''\n",
    "# isnull returns all the nan instances \n",
    "# sum sums all the previous nan occurrences\n",
    "print(dataset.isnull().sum())"
   ]
  },
  {
   "cell_type": "markdown",
   "metadata": {},
   "source": [
    "We can see here that the number of null instances varies significantly.\n",
    "We are going to calculate the percentage of them to see the real inpact\n",
    "\n",
    "The formula is:\n",
    "\n",
    "$\\Large\\frac{NumberNullValues}{TotalNumberSamples}*100$\n",
    "\n",
    "We need to calculate the total number of samples"
   ]
  },
  {
   "cell_type": "code",
   "execution_count": 63,
   "metadata": {},
   "outputs": [
    {
     "name": "stdout",
     "output_type": "stream",
     "text": [
      "RangeIndex(start=0, stop=768, step=1)\n"
     ]
    }
   ],
   "source": [
    "# The index of the dataset give us the range of values\n",
    "print(dataset.index)"
   ]
  },
  {
   "cell_type": "code",
   "execution_count": 64,
   "metadata": {},
   "outputs": [
    {
     "name": "stdout",
     "output_type": "stream",
     "text": [
      "768\n"
     ]
    }
   ],
   "source": [
    "# The length of the index returns the total number of samples\n",
    "print(len(dataset.index))"
   ]
  },
  {
   "cell_type": "code",
   "execution_count": 65,
   "metadata": {},
   "outputs": [
    {
     "name": "stdout",
     "output_type": "stream",
     "text": [
      "0     0.000000\n",
      "1     0.651042\n",
      "2     4.557292\n",
      "3    29.557292\n",
      "4    48.697917\n",
      "5     1.432292\n",
      "6     0.000000\n",
      "7     0.000000\n",
      "8     0.000000\n",
      "dtype: float64\n"
     ]
    }
   ],
   "source": [
    "'''\n",
    "Now we are going to calculate the percentage of values that are null for each column\n",
    "The treatment of these null values may be different according to their quantity\n",
    "'''\n",
    "values = dataset.isnull().sum()/len(dataset.index)*100\n",
    "print(values)"
   ]
  },
  {
   "cell_type": "code",
   "execution_count": 66,
   "metadata": {},
   "outputs": [
    {
     "name": "stdout",
     "output_type": "stream",
     "text": [
      "0%\n",
      "1%\n",
      "5%\n",
      "30%\n",
      "49%\n",
      "1%\n",
      "0%\n",
      "0%\n",
      "0%\n"
     ]
    }
   ],
   "source": [
    "# We can also format the output to give us the %\n",
    "# for that we need to iterate through the vector\n",
    "for i in values:\n",
    "    print(f'{i:.0f}%')"
   ]
  },
  {
   "cell_type": "markdown",
   "metadata": {},
   "source": [
    "### Remove rows with missing values\n",
    "The simplest approach for dealing with missing values is to remove the entire sample that contain missing values.\n",
    "Pandas provides the **dropna()** function that can be used to drop either columns or rows with missing data. "
   ]
  },
  {
   "cell_type": "code",
   "execution_count": 67,
   "metadata": {},
   "outputs": [
    {
     "name": "stdout",
     "output_type": "stream",
     "text": [
      "(768, 9)\n"
     ]
    }
   ],
   "source": [
    "# We can show the dimensions of the dataset before the removal with the function shape\n",
    "print(dataset.shape)"
   ]
  },
  {
   "cell_type": "code",
   "execution_count": 68,
   "metadata": {},
   "outputs": [],
   "source": [
    "'''\n",
    "We can use it to remove all rows with missing data, as follows:\n",
    "'''\n",
    "# inplace=False returns a copy of the object with the operation performed. inplace=True returns None\n",
    "dataset.dropna(inplace=True)"
   ]
  },
  {
   "cell_type": "code",
   "execution_count": 69,
   "metadata": {},
   "outputs": [
    {
     "name": "stdout",
     "output_type": "stream",
     "text": [
      "(392, 9)\n"
     ]
    }
   ],
   "source": [
    "# summarize the shape of the data with missing rows removed\n",
    "print(dataset.shape)"
   ]
  },
  {
   "cell_type": "markdown",
   "metadata": {},
   "source": [
    "We can see here that we get rid of the problem, but removing almost half of our dataset, worthy?"
   ]
  },
  {
   "cell_type": "markdown",
   "metadata": {},
   "source": [
    "### Filled in missing values\n",
    "There are many options we could consider when replacing a missing value, for example:\n",
    "* A constant value that has meaning within the domain, such as 0, distinct from all other values. \n",
    "* A value from another randomly selected record. \n",
    "* A mean, median or mode value for the column. \n",
    "* A value estimated by another predictive model. \n",
    "\n",
    "Pandas provides the **fillna()** function for replacing missing values with a specific value."
   ]
  },
  {
   "cell_type": "code",
   "execution_count": 70,
   "metadata": {},
   "outputs": [],
   "source": [
    "'''\n",
    "Again we load the dataset and mark missing values to have a fresh data\n",
    "'''\n",
    "# load again the dataset\n",
    "dataset = pd.read_csv('pima-indians-diabetes.csv', header=None)\n",
    "# mark zero values as missing or NaN\n",
    "dataset[[1,2,3,4,5]] = dataset[[1,2,3,4,5]].replace(0, np.nan)"
   ]
  },
  {
   "cell_type": "code",
   "execution_count": 71,
   "metadata": {},
   "outputs": [
    {
     "name": "stdout",
     "output_type": "stream",
     "text": [
      "0      0\n",
      "1      5\n",
      "2     35\n",
      "3    227\n",
      "4    374\n",
      "5     11\n",
      "6      0\n",
      "7      0\n",
      "8      0\n",
      "dtype: int64\n"
     ]
    }
   ],
   "source": [
    "# count again the number of NaN values in each column\n",
    "print(dataset.isnull().sum())"
   ]
  },
  {
   "cell_type": "code",
   "execution_count": 72,
   "metadata": {},
   "outputs": [],
   "source": [
    "# fill missing values with mean column values\n",
    "dataset.fillna(dataset.mean(), inplace=True)"
   ]
  },
  {
   "cell_type": "code",
   "execution_count": 73,
   "metadata": {},
   "outputs": [
    {
     "name": "stdout",
     "output_type": "stream",
     "text": [
      "0    0\n",
      "1    0\n",
      "2    0\n",
      "3    0\n",
      "4    0\n",
      "5    0\n",
      "6    0\n",
      "7    0\n",
      "8    0\n",
      "dtype: int64\n"
     ]
    }
   ],
   "source": [
    "# count again the number of NaN values in each column\n",
    "print(dataset.isnull().sum())"
   ]
  },
  {
   "cell_type": "markdown",
   "metadata": {},
   "source": [
    "### Normalisation of the data\n",
    "We are going to use mix-max normalisation to scale the features of our dataset.\n",
    "This method rescales the range of the data to [0,1]\n",
    "The formula is the following:\n",
    "\n",
    "$\\Large x_n=\\frac{x-min(x)}{max(x)-min(x)}$"
   ]
  },
  {
   "cell_type": "code",
   "execution_count": 75,
   "metadata": {},
   "outputs": [
    {
     "name": "stdout",
     "output_type": "stream",
     "text": [
      "                0           1           2           3           4           5  \\\n",
      "count  768.000000  768.000000  768.000000  768.000000  768.000000  768.000000   \n",
      "mean     3.845052  120.894531   69.105469   20.536458   79.799479   31.992578   \n",
      "std      3.369578   31.972618   19.355807   15.952218  115.244002    7.884160   \n",
      "min      0.000000    0.000000    0.000000    0.000000    0.000000    0.000000   \n",
      "25%      1.000000   99.000000   62.000000    0.000000    0.000000   27.300000   \n",
      "50%      3.000000  117.000000   72.000000   23.000000   30.500000   32.000000   \n",
      "75%      6.000000  140.250000   80.000000   32.000000  127.250000   36.600000   \n",
      "max     17.000000  199.000000  122.000000   99.000000  846.000000   67.100000   \n",
      "\n",
      "                6           7           8  \n",
      "count  768.000000  768.000000  768.000000  \n",
      "mean     0.471876   33.240885    0.348958  \n",
      "std      0.331329   11.760232    0.476951  \n",
      "min      0.078000   21.000000    0.000000  \n",
      "25%      0.243750   24.000000    0.000000  \n",
      "50%      0.372500   29.000000    0.000000  \n",
      "75%      0.626250   41.000000    1.000000  \n",
      "max      2.420000   81.000000    1.000000  \n"
     ]
    }
   ],
   "source": [
    "# we use again describe to show the summary of descriptive statistics for each of the columns\n",
    "print(dataset.describe())"
   ]
  },
  {
   "cell_type": "code",
   "execution_count": 76,
   "metadata": {},
   "outputs": [
    {
     "name": "stdout",
     "output_type": "stream",
     "text": [
      "0     17.00\n",
      "1    199.00\n",
      "2    122.00\n",
      "3     99.00\n",
      "4    846.00\n",
      "5     67.10\n",
      "6      2.42\n",
      "7     81.00\n",
      "8      1.00\n",
      "dtype: float64\n",
      "--------\n",
      "0     0.000\n",
      "1     0.000\n",
      "2     0.000\n",
      "3     0.000\n",
      "4     0.000\n",
      "5     0.000\n",
      "6     0.078\n",
      "7    21.000\n",
      "8     0.000\n",
      "dtype: float64\n"
     ]
    }
   ],
   "source": [
    "# We see that we need to calculate the maximum and minimum values for each attibute\n",
    "# This is done with functions min() and max()\n",
    "column_max = dataset.max()\n",
    "column_min = dataset.min()\n",
    "print(column_max)\n",
    "print('--------')\n",
    "print(column_min)"
   ]
  },
  {
   "cell_type": "code",
   "execution_count": 78,
   "metadata": {},
   "outputs": [],
   "source": [
    "# and now we calculate the formula\n",
    "dataset_norm = (dataset - column_min) / (column_max - column_min)"
   ]
  },
  {
   "cell_type": "code",
   "execution_count": 79,
   "metadata": {},
   "outputs": [
    {
     "name": "stdout",
     "output_type": "stream",
     "text": [
      "                0           1           2           3           4           5  \\\n",
      "count  768.000000  768.000000  768.000000  768.000000  768.000000  768.000000   \n",
      "mean     0.226180    0.607510    0.566438    0.207439    0.094326    0.476790   \n",
      "std      0.198210    0.160666    0.158654    0.161134    0.136222    0.117499   \n",
      "min      0.000000    0.000000    0.000000    0.000000    0.000000    0.000000   \n",
      "25%      0.058824    0.497487    0.508197    0.000000    0.000000    0.406855   \n",
      "50%      0.176471    0.587940    0.590164    0.232323    0.036052    0.476900   \n",
      "75%      0.352941    0.704774    0.655738    0.323232    0.150414    0.545455   \n",
      "max      1.000000    1.000000    1.000000    1.000000    1.000000    1.000000   \n",
      "\n",
      "                6           7           8  \n",
      "count  768.000000  768.000000  768.000000  \n",
      "mean     0.168179    0.204015    0.348958  \n",
      "std      0.141473    0.196004    0.476951  \n",
      "min      0.000000    0.000000    0.000000  \n",
      "25%      0.070773    0.050000    0.000000  \n",
      "50%      0.125747    0.133333    0.000000  \n",
      "75%      0.234095    0.333333    1.000000  \n",
      "max      1.000000    1.000000    1.000000  \n"
     ]
    }
   ],
   "source": [
    "# we use again describe to show the summary of descriptive statistics for each of the columns\n",
    "print(dataset_norm.describe())"
   ]
  },
  {
   "cell_type": "markdown",
   "metadata": {},
   "source": [
    "## Outliers"
   ]
  },
  {
   "cell_type": "markdown",
   "metadata": {},
   "source": [
    "We start by creating a simple 2-dimension dataset and skew it a bit to get some outliers"
   ]
  },
  {
   "cell_type": "code",
   "execution_count": 80,
   "metadata": {},
   "outputs": [
    {
     "data": {
      "text/plain": [
       "(1000, 2)"
      ]
     },
     "execution_count": 80,
     "metadata": {},
     "output_type": "execute_result"
    }
   ],
   "source": [
    "np.random.seed(42)\n",
    "dataset = np.random.normal(0, 2, (1000,2))\n",
    "#dataset[:,0] = np.cos(dataset[:,0])\n",
    "dataset[:,1] = np.exp(dataset[:,1])\n",
    "dataset.shape"
   ]
  },
  {
   "cell_type": "markdown",
   "metadata": {},
   "source": [
    "Let's visualize the dataset"
   ]
  },
  {
   "cell_type": "code",
   "execution_count": 81,
   "metadata": {},
   "outputs": [
    {
     "data": {
      "text/plain": [
       "<matplotlib.collections.PathCollection at 0x7fd2efec34c0>"
      ]
     },
     "execution_count": 81,
     "metadata": {},
     "output_type": "execute_result"
    },
    {
     "data": {
      "image/png": "[encoded data removed]",
      "text/plain": [
       "<Figure size 432x288 with 1 Axes>"
      ]
     },
     "metadata": {
      "needs_background": "light"
     },
     "output_type": "display_data"
    }
   ],
   "source": [
    "plt.scatter(*zip(*dataset))"
   ]
  },
  {
   "cell_type": "markdown",
   "metadata": {},
   "source": [
    "We can create boxplot in python, but in can be annoying depending on how big the oulier are"
   ]
  },
  {
   "cell_type": "code",
   "execution_count": 82,
   "metadata": {},
   "outputs": [
    {
     "data": {
      "text/plain": [
       "[]"
      ]
     },
     "execution_count": 82,
     "metadata": {},
     "output_type": "execute_result"
    },
    {
     "data": {
      "image/png": "[encoded data removed]",
      "text/plain": [
       "<Figure size 432x288 with 3 Axes>"
      ]
     },
     "metadata": {
      "needs_background": "light"
     },
     "output_type": "display_data"
    }
   ],
   "source": [
    "fig, axs = plt.subplots(1,3)\n",
    "axs[0].boxplot(dataset[:, 0])\n",
    "axs[1].boxplot(dataset[:, 1])\n",
    "axs[2].boxplot(dataset[:, 1], showfliers=False)\n",
    "plt.plot()"
   ]
  },
  {
   "cell_type": "markdown",
   "metadata": {},
   "source": [
    "You can always use histogram"
   ]
  },
  {
   "cell_type": "code",
   "execution_count": 47,
   "metadata": {},
   "outputs": [
    {
     "data": {
      "text/plain": [
       "[]"
      ]
     },
     "execution_count": 47,
     "metadata": {},
     "output_type": "execute_result"
    },
    {
     "data": {
      "image/png": "[encoded data removed]",
      "text/plain": [
       "<Figure size 432x288 with 2 Axes>"
      ]
     },
     "metadata": {
      "needs_background": "light"
     },
     "output_type": "display_data"
    }
   ],
   "source": [
    "fig, axs = plt.subplots(1,2)\n",
    "axs[0].hist(dataset[:, 0], bins=30)\n",
    "axs[1].hist(dataset[:, 1], bins=40)\n",
    "plt.plot()"
   ]
  },
  {
   "cell_type": "markdown",
   "metadata": {},
   "source": [
    "With pandas, you can use `dataset.describe()`, butn numpy do not have it. You could create a pandas dataframe from our numpy array, but we can also decide to print the metrics we want by hand"
   ]
  },
  {
   "cell_type": "code",
   "execution_count": 48,
   "metadata": {},
   "outputs": [
    {
     "name": "stdout",
     "output_type": "stream",
     "text": [
      "mean 10.197853421861106\n",
      "min 0.0027926138181753766\n",
      "max 2220.4451689318485\n",
      "median 1.1001910576167724\n",
      "10% = 0.08239500606738263\n",
      "25% = 0.2717601257878173\n",
      "50% = 1.1001910576167724\n",
      "75% = 4.1777656854515275\n",
      "90% = 15.60315456250838\n",
      "97% = 48.378007531904544\n",
      "99% = 137.97841388796405\n"
     ]
    }
   ],
   "source": [
    "print('mean', dataset[:,1].mean())\n",
    "print('min', dataset[:,1].min())\n",
    "print('max', dataset[:,1].max())\n",
    "print('median', np.median(dataset[:,1]))\n",
    "percent = [10, 25, 50, 75, 90, 97, 99]\n",
    "percentile = np.percentile(dataset[:,1], percent)\n",
    "for i in range(len(percent)):\n",
    "    print(f'{percent[i]}% = {percentile[i]}')"
   ]
  },
  {
   "cell_type": "markdown",
   "metadata": {},
   "source": [
    "We compute the interquartile range and the upper threshold for outliers"
   ]
  },
  {
   "cell_type": "code",
   "execution_count": 49,
   "metadata": {},
   "outputs": [
    {
     "name": "stdout",
     "output_type": "stream",
     "text": [
      "10.036774024947093\n"
     ]
    }
   ],
   "source": [
    "IQR = percentile[3] - percentile[1]\n",
    "threshold = IQR * 1.5 + percentile[3]\n",
    "print(threshold)"
   ]
  },
  {
   "cell_type": "markdown",
   "metadata": {},
   "source": [
    "We remove all outliers. You can use numpy and indexing to do that easily."
   ]
  },
  {
   "cell_type": "code",
   "execution_count": 88,
   "metadata": {},
   "outputs": [
    {
     "name": "stdout",
     "output_type": "stream",
     "text": [
      "[ True  True  True  True  True  True  True] ...\n"
     ]
    },
    {
     "data": {
      "text/plain": [
       "(863, 2)"
      ]
     },
     "execution_count": 88,
     "metadata": {},
     "output_type": "execute_result"
    }
   ],
   "source": [
    "index = dataset[:,1] < threshold\n",
    "print(index[:7], '...')\n",
    "dataset = dataset[index]\n",
    "dataset.shape"
   ]
  },
  {
   "cell_type": "markdown",
   "metadata": {},
   "source": [
    "We can check our boxplot now"
   ]
  },
  {
   "cell_type": "code",
   "execution_count": 89,
   "metadata": {},
   "outputs": [
    {
     "data": {
      "text/plain": [
       "[]"
      ]
     },
     "execution_count": 89,
     "metadata": {},
     "output_type": "execute_result"
    },
    {
     "data": {
      "image/png": "[encoded data removed]",
      "text/plain": [
       "<Figure size 432x288 with 2 Axes>"
      ]
     },
     "metadata": {
      "needs_background": "light"
     },
     "output_type": "display_data"
    }
   ],
   "source": [
    "fig, axs = plt.subplots(1,2)\n",
    "axs[0].boxplot(dataset[:, 1])\n",
    "axs[1].boxplot(dataset[:, 1], showfliers=False)\n",
    "plt.plot()"
   ]
  },
  {
   "cell_type": "code",
   "execution_count": 90,
   "metadata": {},
   "outputs": [
    {
     "data": {
      "text/plain": [
       "[]"
      ]
     },
     "execution_count": 90,
     "metadata": {},
     "output_type": "execute_result"
    },
    {
     "data": {
      "image/png": "[encoded data removed]",
      "text/plain": [
       "<Figure size 432x288 with 2 Axes>"
      ]
     },
     "metadata": {
      "needs_background": "light"
     },
     "output_type": "display_data"
    }
   ],
   "source": [
    "fig, axs = plt.subplots(1,2)\n",
    "axs[0].hist(dataset[:, 0], bins=30)\n",
    "axs[1].hist(dataset[:, 1], bins=40)\n",
    "plt.plot()"
   ]
  }
 ],
 "metadata": {
  "kernelspec": {
   "display_name": "Python 3 (ipykernel)",
   "language": "python",
   "name": "python3"
  },
  "language_info": {
   "codemirror_mode": {
    "name": "ipython",
    "version": 3
   },
   "file_extension": ".py",
   "mimetype": "text/x-python",
   "name": "python",
   "nbconvert_exporter": "python",
   "pygments_lexer": "ipython3",
   "version": "3.8.12"
  }
 },
 "nbformat": 4,
 "nbformat_minor": 4
}
