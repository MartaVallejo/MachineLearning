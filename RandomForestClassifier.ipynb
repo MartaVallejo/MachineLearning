{
 "cells": [
  {
   "cell_type": "markdown",
   "id": "7d1ea747-5ff9-47c9-8889-0dba8a3fbdac",
   "metadata": {},
   "source": [
    "# Random Forest"
   ]
  },
  {
   "cell_type": "code",
   "execution_count": 30,
   "id": "aa0c4e55-4bdc-459c-bc01-3baff7468664",
   "metadata": {},
   "outputs": [],
   "source": [
    "import numpy as np\n",
    "import pandas as pd\n",
    "import matplotlib.pyplot as plt\n",
    "%matplotlib inline"
   ]
  },
  {
   "cell_type": "code",
   "execution_count": 31,
   "id": "2d820e2f-3e1c-4517-a9b3-a7ab87512a6c",
   "metadata": {},
   "outputs": [],
   "source": [
    "# fixing the randomness\n",
    "import random\n",
    "random.seed(42)\n",
    "np.random.seed(42)"
   ]
  },
  {
   "cell_type": "markdown",
   "id": "a7bde271-2a5f-479a-a63c-2664338760b2",
   "metadata": {},
   "source": [
    "To start, we will create our data. We are looking at the random forest classifier, so we'll use the cancer dataset, used for classification. "
   ]
  },
  {
   "cell_type": "code",
   "execution_count": 38,
   "id": "249d0e10-001f-4b6b-a6db-016d63474406",
   "metadata": {},
   "outputs": [
    {
     "name": "stdout",
     "output_type": "stream",
     "text": [
      "['mean radius' 'mean texture' 'mean perimeter' 'mean area'\n",
      " 'mean smoothness' 'mean compactness' 'mean concavity'\n",
      " 'mean concave points' 'mean symmetry' 'mean fractal dimension'\n",
      " 'radius error' 'texture error' 'perimeter error' 'area error'\n",
      " 'smoothness error' 'compactness error' 'concavity error'\n",
      " 'concave points error' 'symmetry error' 'fractal dimension error'\n",
      " 'worst radius' 'worst texture' 'worst perimeter' 'worst area'\n",
      " 'worst smoothness' 'worst compactness' 'worst concavity'\n",
      " 'worst concave points' 'worst symmetry' 'worst fractal dimension']\n"
     ]
    },
    {
     "data": {
      "text/plain": [
       "(569, 30)"
      ]
     },
     "execution_count": 38,
     "metadata": {},
     "output_type": "execute_result"
    }
   ],
   "source": [
    "# Import the diabetes dataset from sklearn\n",
    "# https://scikit-learn.org/stable/modules/generated/sklearn.datasets.load_breast_cancer.html\n",
    "from sklearn.datasets import load_breast_cancer\n",
    "# load the dataset\n",
    "cancer = load_breast_cancer()\n",
    "print(cancer['feature_names'])\n",
    "cancer.data.shape"
   ]
  },
  {
   "cell_type": "code",
   "execution_count": 33,
   "id": "38c2e520-478f-45da-8bf8-5c701b0688df",
   "metadata": {},
   "outputs": [],
   "source": [
    "from sklearn.model_selection import train_test_split\n",
    "x_train, x_test, y_train, y_test = train_test_split(\n",
    "    cancer.data, cancer.target,  test_size = 0.3, random_state = 42)"
   ]
  },
  {
   "cell_type": "markdown",
   "id": "e92daa85-f23e-48cd-b3c7-3118c0a224c4",
   "metadata": {},
   "source": [
    "Creating a Random Forest classifier with sk-learn is not different than using other type of classifier, such as the Decision Tree we saw last time"
   ]
  },
  {
   "cell_type": "code",
   "execution_count": 34,
   "id": "b93aaa6d-95c3-43db-bb53-e115e5435faa",
   "metadata": {},
   "outputs": [],
   "source": [
    "# importing the random forest classifier algorithm function from sklearn\n",
    "from sklearn.ensemble import RandomForestClassifier\n",
    "# the random forest is stochastic, so we use a random_state parameter to fix the result\n",
    "clf = RandomForestClassifier(random_state=42)"
   ]
  },
  {
   "cell_type": "markdown",
   "id": "1accfc51-d4ee-41d7-9538-db20e2df82ec",
   "metadata": {},
   "source": [
    "And we use the same method for training than we usually do"
   ]
  },
  {
   "cell_type": "code",
   "execution_count": 35,
   "id": "c79c3659-1fae-4d05-a816-3d885cd8f94b",
   "metadata": {},
   "outputs": [
    {
     "data": {
      "text/plain": [
       "0.9707602339181286"
      ]
     },
     "execution_count": 35,
     "metadata": {},
     "output_type": "execute_result"
    }
   ],
   "source": [
    "clf.fit(x_train, y_train)\n",
    "clf.score(x_test, y_test)"
   ]
  },
  {
   "cell_type": "markdown",
   "id": "a48bc05f-3f0a-43e0-aa7e-7e33eb7455c6",
   "metadata": {},
   "source": [
    "## Part II\n"
   ]
  },
  {
   "cell_type": "markdown",
   "id": "43b4ea04-b995-4eb0-a589-d97fdb831051",
   "metadata": {},
   "source": [
    "The `max_features` parameter can be set manually with an integer for an hard value or a float for percentage, or you can use some preset value such as `'sqrt'` which consider $\\sqrt{N}$ features for each split, with $N$ being the number of features. \n",
    "\n",
    "The square root is the same as `'auto'` for the ramdom forest classifier, and is the default parameter."
   ]
  },
  {
   "cell_type": "code",
   "execution_count": 42,
   "id": "6564cdf9-0134-48e5-a15a-10e984939c1f",
   "metadata": {},
   "outputs": [],
   "source": [
    "clf2 = RandomForestClassifier(max_features=30, random_state=42)"
   ]
  },
  {
   "cell_type": "code",
   "execution_count": 43,
   "id": "099d25a1-51c7-4fb7-9d93-1093515eb48d",
   "metadata": {},
   "outputs": [
    {
     "data": {
      "text/plain": [
       "0.9590643274853801"
      ]
     },
     "execution_count": 43,
     "metadata": {},
     "output_type": "execute_result"
    }
   ],
   "source": [
    "clf2.fit(x_train, y_train)\n",
    "clf2.score(x_test, y_test)"
   ]
  },
  {
   "cell_type": "markdown",
   "id": "8fe38a4e-7709-40e7-b080-af10078ae780",
   "metadata": {},
   "source": [
    "By default the `max_depth` parameter doesn't have any value, and such the nodes are expanded until the leaves are pure (or until other hyper-parameter such as `min_samples_split` decides it).\n",
    "\n",
    "The sk-learn user guide mention this:\n",
    "> Good results are often achieved when setting `max_depth=None` in combination with `min_samples_split=2` (i.e., when fully developing the trees).\n",
    "\n",
    "However, you can still set a maximum depth by hand, with an integer. Doing so will help reducing the size of the model."
   ]
  },
  {
   "cell_type": "code",
   "execution_count": 46,
   "id": "cde1d972-2dd5-4552-b28d-cf263d985b51",
   "metadata": {},
   "outputs": [],
   "source": [
    "clf3 = RandomForestClassifier(max_depth=3, random_state=42)"
   ]
  },
  {
   "cell_type": "code",
   "execution_count": 47,
   "id": "7d11a3ad-4a46-4cf7-b7ab-3654644e852c",
   "metadata": {},
   "outputs": [
    {
     "data": {
      "text/plain": [
       "0.9707602339181286"
      ]
     },
     "execution_count": 47,
     "metadata": {},
     "output_type": "execute_result"
    }
   ],
   "source": [
    "clf3.fit(x_train, y_train)\n",
    "clf3.score(x_test, y_test)"
   ]
  },
  {
   "cell_type": "markdown",
   "id": "0ed23b7d-4045-40c7-8280-db66433e53c8",
   "metadata": {},
   "source": [
    "The number of trees is also an important parameter. You can changed it with the `n_estimators` argument. \n",
    "\n",
    "User guide:\n",
    "> The larger the better, but also the longer it will take to compute. In addition, note that results will stop getting significantly better beyond a critical number of trees. \n",
    "\n",
    "The default value is 100, but you can change it for another integer."
   ]
  },
  {
   "cell_type": "code",
   "execution_count": 58,
   "id": "40d53357-6d36-4e58-8fe6-d590d1bfe858",
   "metadata": {},
   "outputs": [],
   "source": [
    "clf4 = RandomForestClassifier(n_estimators=100, random_state=42)"
   ]
  },
  {
   "cell_type": "code",
   "execution_count": 59,
   "id": "02c17c96-55a5-49e0-89f7-9e4d8b01863e",
   "metadata": {},
   "outputs": [
    {
     "data": {
      "text/plain": [
       "0.9707602339181286"
      ]
     },
     "execution_count": 59,
     "metadata": {},
     "output_type": "execute_result"
    }
   ],
   "source": [
    "clf4.fit(x_train, y_train)\n",
    "clf4.score(x_test, y_test)"
   ]
  },
  {
   "cell_type": "code",
   "execution_count": 60,
   "id": "bdcd83fb-75e8-43a8-a18b-f7164fbcf5fe",
   "metadata": {},
   "outputs": [],
   "source": [
    "clf5 = RandomForestClassifier(n_estimators=3000, random_state=42)"
   ]
  },
  {
   "cell_type": "code",
   "execution_count": 61,
   "id": "215dc4fc-321a-4399-9b44-830fc63b103f",
   "metadata": {},
   "outputs": [
    {
     "data": {
      "text/plain": [
       "0.9707602339181286"
      ]
     },
     "execution_count": 61,
     "metadata": {},
     "output_type": "execute_result"
    }
   ],
   "source": [
    "clf5.fit(x_train, y_train)\n",
    "clf5.score(x_test, y_test)"
   ]
  },
  {
   "cell_type": "markdown",
   "id": "d0781615-3f90-42a1-bb5a-ce2eaff3bcc1",
   "metadata": {},
   "source": [
    "You can decide to use bootstrapping or the entire dataset for each tree with the `bootstrap` argument. The default value is `True`. \n",
    "\n",
    "If it is `True`, you can control the size of the bagging with the `max_samples` argument. By default it is `None`, which draws all the sample. You can change it to an int or a float for percentage. \n",
    "\n",
    "User guide:\n",
    "> A typical value of subsample is 0.5."
   ]
  },
  {
   "cell_type": "code",
   "execution_count": 62,
   "id": "ea75561f-6b06-4b47-a909-70285e705aa5",
   "metadata": {},
   "outputs": [],
   "source": [
    "clf6 = RandomForestClassifier(max_samples=1, random_state=42)"
   ]
  },
  {
   "cell_type": "code",
   "execution_count": 63,
   "id": "142c2749-0065-42b7-ba01-430329bb827f",
   "metadata": {},
   "outputs": [
    {
     "data": {
      "text/plain": [
       "0.631578947368421"
      ]
     },
     "execution_count": 63,
     "metadata": {},
     "output_type": "execute_result"
    }
   ],
   "source": [
    "clf6.fit(x_train, y_train)\n",
    "clf6.score(x_test, y_test)"
   ]
  },
  {
   "cell_type": "code",
   "execution_count": 64,
   "id": "4eeff9d8-7856-4453-9dc1-81d324b3178a",
   "metadata": {},
   "outputs": [],
   "source": [
    "clf7 = RandomForestClassifier(max_samples=0.4, random_state=42)"
   ]
  },
  {
   "cell_type": "code",
   "execution_count": 65,
   "id": "c18609e8-d7a9-4cb9-bbf1-3e2c8ac5907e",
   "metadata": {},
   "outputs": [
    {
     "data": {
      "text/plain": [
       "0.9707602339181286"
      ]
     },
     "execution_count": 65,
     "metadata": {},
     "output_type": "execute_result"
    }
   ],
   "source": [
    "clf7.fit(x_train, y_train)\n",
    "clf7.score(x_test, y_test)"
   ]
  },
  {
   "cell_type": "markdown",
   "id": "5df7f114-1038-4014-b2d6-4f4dbcc6d049",
   "metadata": {},
   "source": [
    "## Part III"
   ]
  },
  {
   "cell_type": "code",
   "execution_count": 66,
   "id": "c37e1a55-c0aa-4761-a79d-ed2f86c6de39",
   "metadata": {},
   "outputs": [
    {
     "name": "stdout",
     "output_type": "stream",
     "text": [
      "['age', 'sex', 'bmi', 'bp', 's1', 's2', 's3', 's4', 's5', 's6']\n"
     ]
    }
   ],
   "source": [
    "# Import the diabetes dataset from sklearn\n",
    "# https://scikit-learn.org/stable/modules/generated/sklearn.datasets.load_diabetes.html\n",
    "from sklearn.datasets import load_diabetes\n",
    "# load the dataset\n",
    "diabetes = load_diabetes()\n",
    "print(diabetes['feature_names'])"
   ]
  },
  {
   "cell_type": "code",
   "execution_count": 67,
   "id": "d50a85a4-16b9-4fc3-bf0b-e7276fe0b597",
   "metadata": {},
   "outputs": [],
   "source": [
    "x_train2, x_test2, y_train2, y_test2 = train_test_split(\n",
    "    diabetes.data, diabetes.target,  test_size = 0.3, random_state = 42)"
   ]
  },
  {
   "cell_type": "code",
   "execution_count": 68,
   "id": "d1b7d9ab-64bc-4258-95d4-b293b771f2d7",
   "metadata": {},
   "outputs": [],
   "source": [
    "# importing the random forest regressor algorithm function from sklearn\n",
    "from sklearn.ensemble import RandomForestRegressor\n",
    "# the random forest is stochastic, so we use a random_state parameter to fix the result\n",
    "reg = RandomForestRegressor(random_state=42)"
   ]
  },
  {
   "cell_type": "code",
   "execution_count": 69,
   "id": "9342deef-c8d4-45ab-943e-4eb3067e03a2",
   "metadata": {},
   "outputs": [
    {
     "data": {
      "text/plain": [
       "0.4696720656194817"
      ]
     },
     "execution_count": 69,
     "metadata": {},
     "output_type": "execute_result"
    }
   ],
   "source": [
    "reg.fit(x_train2, y_train2)\n",
    "reg.score(x_test2, y_test2)"
   ]
  },
  {
   "cell_type": "markdown",
   "id": "7a23b4fa-5ad6-4a9e-b9f3-fe51ed22d0bd",
   "metadata": {},
   "source": [
    "Using all the argument we observed previously, we can set custom parameter for our regressor. \n",
    "\n",
    "Note that some default parameter value are different between the regressor and the classifier. For example the `max_features` default value `'auto'` is equal to the number of features rather than its square root. "
   ]
  },
  {
   "cell_type": "code",
   "execution_count": 70,
   "id": "7e0f7525-c4cf-4a5f-9ec4-c1322edeb1b8",
   "metadata": {},
   "outputs": [],
   "source": [
    "reg2 = RandomForestRegressor(\n",
    "    random_state=42, n_estimators=100, max_samples=0.5, \n",
    "    max_features='sqrt', max_depth=15)"
   ]
  },
  {
   "cell_type": "code",
   "execution_count": 71,
   "id": "eb5c93f7-62df-4964-a075-31031232dc9d",
   "metadata": {},
   "outputs": [
    {
     "data": {
      "text/plain": [
       "0.5148155721944819"
      ]
     },
     "execution_count": 71,
     "metadata": {},
     "output_type": "execute_result"
    }
   ],
   "source": [
    "reg2.fit(x_train2, y_train2)\n",
    "reg2.score(x_test2, y_test2)"
   ]
  },
  {
   "cell_type": "markdown",
   "id": "2f9c7bf6-5888-4a93-b9d9-128f2357fd84",
   "metadata": {},
   "source": [
    "## PART IV"
   ]
  },
  {
   "cell_type": "code",
   "execution_count": 72,
   "id": "eb267a0e-a986-49d3-b6e7-bf89dbf78157",
   "metadata": {},
   "outputs": [],
   "source": [
    "clfm = RandomForestClassifier(\n",
    "    random_state=42, n_estimators=100, max_samples=0.5, \n",
    "    max_features='sqrt', max_depth=15)"
   ]
  },
  {
   "cell_type": "code",
   "execution_count": 73,
   "id": "087e8522-f5eb-4676-8a2a-9afbe59a9536",
   "metadata": {},
   "outputs": [],
   "source": [
    "clfm.fit(x_train, y_train)\n",
    "res_p = clfm.predict_proba(x_test)\n",
    "res = clfm.predict(x_test)"
   ]
  },
  {
   "cell_type": "code",
   "execution_count": 27,
   "id": "0ae0dff8-213b-4dcb-9b8c-f689f8a8dd76",
   "metadata": {},
   "outputs": [
    {
     "name": "stdout",
     "output_type": "stream",
     "text": [
      "acc: 0.9707602339181286\n",
      "ppv: 0.963963963963964\n",
      "tpr: 0.9907407407407407\n",
      "f1 : 0.9771689497716894\n",
      "auc : 0.9973544973544973\n"
     ]
    }
   ],
   "source": [
    "from sklearn.metrics import accuracy_score, f1_score, roc_auc_score, \\\n",
    "    recall_score, precision_score, ConfusionMatrixDisplay, RocCurveDisplay\n",
    "print('acc:', accuracy_score(y_test, res))\n",
    "print('ppv:', precision_score(y_test, res))\n",
    "print('tpr:', recall_score(y_test, res))\n",
    "print('f1 :', f1_score(y_test, res))\n",
    "print('auc :', roc_auc_score(y_test, res_p[:, 1]))"
   ]
  },
  {
   "cell_type": "code",
   "execution_count": 28,
   "id": "30a6048e-a7fb-46b0-9379-cb6171ef2745",
   "metadata": {},
   "outputs": [
    {
     "data": {
      "text/plain": [
       "<sklearn.metrics._plot.confusion_matrix.ConfusionMatrixDisplay at 0x7fbe06cf81c0>"
      ]
     },
     "execution_count": 28,
     "metadata": {},
     "output_type": "execute_result"
    },
    {
     "data": {
      "image/png": "[encoded data removed]",
      "text/plain": [
       "<Figure size 432x288 with 2 Axes>"
      ]
     },
     "metadata": {
      "needs_background": "light"
     },
     "output_type": "display_data"
    }
   ],
   "source": [
    "ConfusionMatrixDisplay.from_predictions(y_test, res)"
   ]
  },
  {
   "cell_type": "code",
   "execution_count": 29,
   "id": "3b316ee6-b9dc-471b-bddb-d0caf6de2597",
   "metadata": {},
   "outputs": [
    {
     "data": {
      "text/plain": [
       "<sklearn.metrics._plot.roc_curve.RocCurveDisplay at 0x7fbe06c90d00>"
      ]
     },
     "execution_count": 29,
     "metadata": {},
     "output_type": "execute_result"
    },
    {
     "data": {
      "image/png": "[encoded data removed]",
      "text/plain": [
       "<Figure size 432x288 with 1 Axes>"
      ]
     },
     "metadata": {
      "needs_background": "light"
     },
     "output_type": "display_data"
    }
   ],
   "source": [
    "RocCurveDisplay.from_predictions(y_test, res_p[:, 1])"
   ]
  }
 ],
 "metadata": {
  "kernelspec": {
   "display_name": "Python 3 (ipykernel)",
   "language": "python",
   "name": "python3"
  },
  "language_info": {
   "codemirror_mode": {
    "name": "ipython",
    "version": 3
   },
   "file_extension": ".py",
   "mimetype": "text/x-python",
   "name": "python",
   "nbconvert_exporter": "python",
   "pygments_lexer": "ipython3",
   "version": "3.8.12"
  }
 },
 "nbformat": 4,
 "nbformat_minor": 5
}
