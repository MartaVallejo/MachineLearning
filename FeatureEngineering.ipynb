{
 "cells": [
  {
   "cell_type": "markdown",
   "id": "4713a93b-5bc3-49ac-a43b-bc27dd4afa9a",
   "metadata": {},
   "source": [
    "# Feature Engineering"
   ]
  },
  {
   "cell_type": "markdown",
   "id": "e72e1205-8a1d-431f-9de3-2b0f71224892",
   "metadata": {},
   "source": [
    "## Redundancy ans useless information"
   ]
  },
  {
   "cell_type": "code",
   "execution_count": 31,
   "id": "1e28e802-76a4-4df3-9218-c0f6cec601fb",
   "metadata": {},
   "outputs": [],
   "source": [
    "# We would need these libraries to manage our dataset\n",
    "# Numpy: used for large, multi-dimensional arrays and matrices, and for high-level mathematical functions\n",
    "# Pandas: used for data manipulation and analysis\n",
    "# matplotlib: used for visualisation and plotting graph/image/etc\n",
    "import numpy as np\n",
    "import pandas as pd\n",
    "import matplotlib.pyplot as plt"
   ]
  },
  {
   "cell_type": "code",
   "execution_count": 32,
   "id": "e7af68aa-9dd5-451d-ae93-c7d2c44c338c",
   "metadata": {},
   "outputs": [],
   "source": [
    "# Import the iris dataset from sklearn\n",
    "# https://scikit-learn.org/stable/modules/classes.html#module-sklearn.datasets\n",
    "from sklearn.datasets import load_iris\n",
    "# load the dataset\n",
    "iris = load_iris()\n",
    "# transform the dataset into a Pandas DataFrame to make it easier to display\n",
    "# it is not necessary to understand what is done here\n",
    "dataset = pd.DataFrame(data= np.column_stack([iris['data'], iris['target']]),\n",
    "                     columns= iris['feature_names'] + ['target'])"
   ]
  },
  {
   "cell_type": "code",
   "execution_count": 33,
   "id": "8951b018-33da-4bc6-9ad5-874b668f9320",
   "metadata": {},
   "outputs": [],
   "source": [
    "from sklearn.preprocessing import MinMaxScaler\n",
    "nm = MinMaxScaler()\n",
    "dataset_norm = nm.fit_transform(dataset)\n",
    "dataset_norm = pd.DataFrame(dataset_norm, columns=dataset.columns)"
   ]
  },
  {
   "cell_type": "markdown",
   "id": "f080aca2-4147-4cd5-87ad-1c133c6ddf1b",
   "metadata": {},
   "source": [
    "We can check which variable are colinear with each other with the `corr` function from pandas. This can help us removing unecessary features. For example the `petal length (cm)` is very similar to `petal width (cm)` and we could remove one of them."
   ]
  },
  {
   "cell_type": "code",
   "execution_count": 34,
   "id": "310befe3-aca7-4673-8cd4-833a1906ed9b",
   "metadata": {},
   "outputs": [
    {
     "data": {
      "text/html": [
       "<div>\n",
       "<style scoped>\n",
       "    .dataframe tbody tr th:only-of-type {\n",
       "        vertical-align: middle;\n",
       "    }\n",
       "\n",
       "    .dataframe tbody tr th {\n",
       "        vertical-align: top;\n",
       "    }\n",
       "\n",
       "    .dataframe thead th {\n",
       "        text-align: right;\n",
       "    }\n",
       "</style>\n",
       "<table border=\"1\" class=\"dataframe\">\n",
       "  <thead>\n",
       "    <tr style=\"text-align: right;\">\n",
       "      <th></th>\n",
       "      <th>sepal length (cm)</th>\n",
       "      <th>sepal width (cm)</th>\n",
       "      <th>petal length (cm)</th>\n",
       "      <th>petal width (cm)</th>\n",
       "      <th>target</th>\n",
       "    </tr>\n",
       "  </thead>\n",
       "  <tbody>\n",
       "    <tr>\n",
       "      <th>sepal length (cm)</th>\n",
       "      <td>1.000000</td>\n",
       "      <td>-0.117570</td>\n",
       "      <td>0.871754</td>\n",
       "      <td>0.817941</td>\n",
       "      <td>0.782561</td>\n",
       "    </tr>\n",
       "    <tr>\n",
       "      <th>sepal width (cm)</th>\n",
       "      <td>-0.117570</td>\n",
       "      <td>1.000000</td>\n",
       "      <td>-0.428440</td>\n",
       "      <td>-0.366126</td>\n",
       "      <td>-0.426658</td>\n",
       "    </tr>\n",
       "    <tr>\n",
       "      <th>petal length (cm)</th>\n",
       "      <td>0.871754</td>\n",
       "      <td>-0.428440</td>\n",
       "      <td>1.000000</td>\n",
       "      <td>0.962865</td>\n",
       "      <td>0.949035</td>\n",
       "    </tr>\n",
       "    <tr>\n",
       "      <th>petal width (cm)</th>\n",
       "      <td>0.817941</td>\n",
       "      <td>-0.366126</td>\n",
       "      <td>0.962865</td>\n",
       "      <td>1.000000</td>\n",
       "      <td>0.956547</td>\n",
       "    </tr>\n",
       "    <tr>\n",
       "      <th>target</th>\n",
       "      <td>0.782561</td>\n",
       "      <td>-0.426658</td>\n",
       "      <td>0.949035</td>\n",
       "      <td>0.956547</td>\n",
       "      <td>1.000000</td>\n",
       "    </tr>\n",
       "  </tbody>\n",
       "</table>\n",
       "</div>"
      ],
      "text/plain": [
       "                   sepal length (cm)  sepal width (cm)  petal length (cm)  \\\n",
       "sepal length (cm)           1.000000         -0.117570           0.871754   \n",
       "sepal width (cm)           -0.117570          1.000000          -0.428440   \n",
       "petal length (cm)           0.871754         -0.428440           1.000000   \n",
       "petal width (cm)            0.817941         -0.366126           0.962865   \n",
       "target                      0.782561         -0.426658           0.949035   \n",
       "\n",
       "                   petal width (cm)    target  \n",
       "sepal length (cm)          0.817941  0.782561  \n",
       "sepal width (cm)          -0.366126 -0.426658  \n",
       "petal length (cm)          0.962865  0.949035  \n",
       "petal width (cm)           1.000000  0.956547  \n",
       "target                     0.956547  1.000000  "
      ]
     },
     "execution_count": 34,
     "metadata": {},
     "output_type": "execute_result"
    }
   ],
   "source": [
    "dataset_norm.corr()"
   ]
  },
  {
   "cell_type": "markdown",
   "id": "90b62698-cb0f-4e5f-ba84-a5732ac24c0e",
   "metadata": {},
   "source": [
    "We can check the duplicate value in a very easy fashion using pandas again"
   ]
  },
  {
   "cell_type": "code",
   "execution_count": 36,
   "id": "ed4d2607-3d9c-4363-ab38-eb204c85da70",
   "metadata": {},
   "outputs": [
    {
     "data": {
      "text/plain": [
       "1"
      ]
     },
     "execution_count": 36,
     "metadata": {},
     "output_type": "execute_result"
    }
   ],
   "source": [
    "dataset.duplicated().sum()"
   ]
  },
  {
   "cell_type": "code",
   "execution_count": 37,
   "id": "197aca9d-372d-4d1e-98db-434930b703e2",
   "metadata": {},
   "outputs": [],
   "source": [
    "dataset = dataset[~dataset.duplicated()]"
   ]
  },
  {
   "cell_type": "markdown",
   "id": "6159826b-8781-46f1-b505-f17919ed6106",
   "metadata": {},
   "source": [
    "The `describe` function gives us all the basic information about all the column containing numerical information. It includes the `std` which we can use to determine if the column carry enough information. "
   ]
  },
  {
   "cell_type": "code",
   "execution_count": 38,
   "id": "d6f08c51-950d-444e-b677-4c11492f5c65",
   "metadata": {},
   "outputs": [
    {
     "data": {
      "text/html": [
       "<div>\n",
       "<style scoped>\n",
       "    .dataframe tbody tr th:only-of-type {\n",
       "        vertical-align: middle;\n",
       "    }\n",
       "\n",
       "    .dataframe tbody tr th {\n",
       "        vertical-align: top;\n",
       "    }\n",
       "\n",
       "    .dataframe thead th {\n",
       "        text-align: right;\n",
       "    }\n",
       "</style>\n",
       "<table border=\"1\" class=\"dataframe\">\n",
       "  <thead>\n",
       "    <tr style=\"text-align: right;\">\n",
       "      <th></th>\n",
       "      <th>sepal length (cm)</th>\n",
       "      <th>sepal width (cm)</th>\n",
       "      <th>petal length (cm)</th>\n",
       "      <th>petal width (cm)</th>\n",
       "      <th>target</th>\n",
       "    </tr>\n",
       "  </thead>\n",
       "  <tbody>\n",
       "    <tr>\n",
       "      <th>count</th>\n",
       "      <td>150.000000</td>\n",
       "      <td>150.000000</td>\n",
       "      <td>150.000000</td>\n",
       "      <td>150.000000</td>\n",
       "      <td>150.000000</td>\n",
       "    </tr>\n",
       "    <tr>\n",
       "      <th>mean</th>\n",
       "      <td>0.428704</td>\n",
       "      <td>0.440556</td>\n",
       "      <td>0.467458</td>\n",
       "      <td>0.458056</td>\n",
       "      <td>0.500000</td>\n",
       "    </tr>\n",
       "    <tr>\n",
       "      <th>std</th>\n",
       "      <td>0.230018</td>\n",
       "      <td>0.181611</td>\n",
       "      <td>0.299203</td>\n",
       "      <td>0.317599</td>\n",
       "      <td>0.409616</td>\n",
       "    </tr>\n",
       "    <tr>\n",
       "      <th>min</th>\n",
       "      <td>0.000000</td>\n",
       "      <td>0.000000</td>\n",
       "      <td>0.000000</td>\n",
       "      <td>0.000000</td>\n",
       "      <td>0.000000</td>\n",
       "    </tr>\n",
       "    <tr>\n",
       "      <th>25%</th>\n",
       "      <td>0.222222</td>\n",
       "      <td>0.333333</td>\n",
       "      <td>0.101695</td>\n",
       "      <td>0.083333</td>\n",
       "      <td>0.000000</td>\n",
       "    </tr>\n",
       "    <tr>\n",
       "      <th>50%</th>\n",
       "      <td>0.416667</td>\n",
       "      <td>0.416667</td>\n",
       "      <td>0.567797</td>\n",
       "      <td>0.500000</td>\n",
       "      <td>0.500000</td>\n",
       "    </tr>\n",
       "    <tr>\n",
       "      <th>75%</th>\n",
       "      <td>0.583333</td>\n",
       "      <td>0.541667</td>\n",
       "      <td>0.694915</td>\n",
       "      <td>0.708333</td>\n",
       "      <td>1.000000</td>\n",
       "    </tr>\n",
       "    <tr>\n",
       "      <th>max</th>\n",
       "      <td>1.000000</td>\n",
       "      <td>1.000000</td>\n",
       "      <td>1.000000</td>\n",
       "      <td>1.000000</td>\n",
       "      <td>1.000000</td>\n",
       "    </tr>\n",
       "  </tbody>\n",
       "</table>\n",
       "</div>"
      ],
      "text/plain": [
       "       sepal length (cm)  sepal width (cm)  petal length (cm)  \\\n",
       "count         150.000000        150.000000         150.000000   \n",
       "mean            0.428704          0.440556           0.467458   \n",
       "std             0.230018          0.181611           0.299203   \n",
       "min             0.000000          0.000000           0.000000   \n",
       "25%             0.222222          0.333333           0.101695   \n",
       "50%             0.416667          0.416667           0.567797   \n",
       "75%             0.583333          0.541667           0.694915   \n",
       "max             1.000000          1.000000           1.000000   \n",
       "\n",
       "       petal width (cm)      target  \n",
       "count        150.000000  150.000000  \n",
       "mean           0.458056    0.500000  \n",
       "std            0.317599    0.409616  \n",
       "min            0.000000    0.000000  \n",
       "25%            0.083333    0.000000  \n",
       "50%            0.500000    0.500000  \n",
       "75%            0.708333    1.000000  \n",
       "max            1.000000    1.000000  "
      ]
     },
     "execution_count": 38,
     "metadata": {},
     "output_type": "execute_result"
    }
   ],
   "source": [
    "dataset_norm.describe()"
   ]
  },
  {
   "cell_type": "markdown",
   "id": "51018459-4a56-42c8-ba5a-31c009f3582e",
   "metadata": {},
   "source": [
    "Checking the number of unique value in each column to check you don't have any constant value. You can also check the number of unique value per line, if it is necessary."
   ]
  },
  {
   "cell_type": "code",
   "execution_count": 39,
   "id": "1b934687-f663-4978-b1ae-c9cf4f1ff7b1",
   "metadata": {},
   "outputs": [
    {
     "data": {
      "text/plain": [
       "sepal length (cm)    35\n",
       "sepal width (cm)     23\n",
       "petal length (cm)    43\n",
       "petal width (cm)     22\n",
       "target                3\n",
       "dtype: int64"
      ]
     },
     "execution_count": 39,
     "metadata": {},
     "output_type": "execute_result"
    }
   ],
   "source": [
    "dataset.nunique()"
   ]
  },
  {
   "cell_type": "code",
   "execution_count": 40,
   "id": "dcea7cb4-a446-4d45-afa8-65126c4c5f70",
   "metadata": {},
   "outputs": [
    {
     "data": {
      "text/plain": [
       "(4, 5)"
      ]
     },
     "execution_count": 40,
     "metadata": {},
     "output_type": "execute_result"
    }
   ],
   "source": [
    "unique = dataset.nunique(axis=1)\n",
    "unique.min(), unique.max()"
   ]
  },
  {
   "cell_type": "markdown",
   "id": "1dafcd0e-39e7-494c-8f6e-6f1db825146e",
   "metadata": {},
   "source": [
    "Checking there is no `nan` cell, which pandas way to treat missing value."
   ]
  },
  {
   "cell_type": "code",
   "execution_count": 10,
   "id": "b13463d6-e74a-43bc-a33d-eeadebebd609",
   "metadata": {},
   "outputs": [
    {
     "data": {
      "text/plain": [
       "sepal length (cm)    0\n",
       "sepal width (cm)     0\n",
       "petal length (cm)    0\n",
       "petal width (cm)     0\n",
       "target               0\n",
       "dtype: int64"
      ]
     },
     "execution_count": 10,
     "metadata": {},
     "output_type": "execute_result"
    }
   ],
   "source": [
    "dataset.isna().sum()"
   ]
  },
  {
   "cell_type": "code",
   "execution_count": 41,
   "id": "6e7f541a-0bf9-4d8f-ae64-3f53d87a1e5d",
   "metadata": {},
   "outputs": [],
   "source": [
    "'''\n",
    "This line will allow us to load the dataset\n",
    "The dataset should be in a CSV format\n",
    "A CSV file is a delimited text file that uses a comma to separate values. \n",
    "Each line of the file is a data record.\n",
    "''' \n",
    "# header: indicates if the dataset has an initial line with the name of each column\n",
    "# 0 is the index of the first row\n",
    "dataset = pd.read_csv('./dataset/titanic.csv', header=0)"
   ]
  },
  {
   "cell_type": "code",
   "execution_count": 42,
   "id": "e570e58e-8652-4404-8994-b470d05aa4b1",
   "metadata": {},
   "outputs": [],
   "source": [
    "# Translating the Sex variable to a numerical features\n",
    "dataset['Sex'] = dataset['Sex'] == 'male'"
   ]
  },
  {
   "cell_type": "code",
   "execution_count": 43,
   "id": "64449be5-a4a8-4f87-8960-ae1a67d72350",
   "metadata": {},
   "outputs": [
    {
     "data": {
      "text/plain": [
       "0"
      ]
     },
     "execution_count": 43,
     "metadata": {},
     "output_type": "execute_result"
    }
   ],
   "source": [
    "dataset.duplicated().sum()"
   ]
  },
  {
   "cell_type": "code",
   "execution_count": 44,
   "id": "bf251585-8ff1-4f27-a632-3f521f58f817",
   "metadata": {},
   "outputs": [
    {
     "data": {
      "text/html": [
       "<div>\n",
       "<style scoped>\n",
       "    .dataframe tbody tr th:only-of-type {\n",
       "        vertical-align: middle;\n",
       "    }\n",
       "\n",
       "    .dataframe tbody tr th {\n",
       "        vertical-align: top;\n",
       "    }\n",
       "\n",
       "    .dataframe thead th {\n",
       "        text-align: right;\n",
       "    }\n",
       "</style>\n",
       "<table border=\"1\" class=\"dataframe\">\n",
       "  <thead>\n",
       "    <tr style=\"text-align: right;\">\n",
       "      <th></th>\n",
       "      <th>Survived</th>\n",
       "      <th>Pclass</th>\n",
       "      <th>Sex</th>\n",
       "      <th>Age</th>\n",
       "      <th>Siblings/Spouses Aboard</th>\n",
       "      <th>Parents/Children Aboard</th>\n",
       "      <th>Fare</th>\n",
       "    </tr>\n",
       "  </thead>\n",
       "  <tbody>\n",
       "    <tr>\n",
       "      <th>Survived</th>\n",
       "      <td>1.000000</td>\n",
       "      <td>-0.336528</td>\n",
       "      <td>-0.542152</td>\n",
       "      <td>-0.059665</td>\n",
       "      <td>-0.037082</td>\n",
       "      <td>0.080097</td>\n",
       "      <td>0.256179</td>\n",
       "    </tr>\n",
       "    <tr>\n",
       "      <th>Pclass</th>\n",
       "      <td>-0.336528</td>\n",
       "      <td>1.000000</td>\n",
       "      <td>0.129507</td>\n",
       "      <td>-0.391492</td>\n",
       "      <td>0.085026</td>\n",
       "      <td>0.020252</td>\n",
       "      <td>-0.548919</td>\n",
       "    </tr>\n",
       "    <tr>\n",
       "      <th>Sex</th>\n",
       "      <td>-0.542152</td>\n",
       "      <td>0.129507</td>\n",
       "      <td>1.000000</td>\n",
       "      <td>0.091875</td>\n",
       "      <td>-0.113249</td>\n",
       "      <td>-0.244337</td>\n",
       "      <td>-0.181137</td>\n",
       "    </tr>\n",
       "    <tr>\n",
       "      <th>Age</th>\n",
       "      <td>-0.059665</td>\n",
       "      <td>-0.391492</td>\n",
       "      <td>0.091875</td>\n",
       "      <td>1.000000</td>\n",
       "      <td>-0.297669</td>\n",
       "      <td>-0.193741</td>\n",
       "      <td>0.112329</td>\n",
       "    </tr>\n",
       "    <tr>\n",
       "      <th>Siblings/Spouses Aboard</th>\n",
       "      <td>-0.037082</td>\n",
       "      <td>0.085026</td>\n",
       "      <td>-0.113249</td>\n",
       "      <td>-0.297669</td>\n",
       "      <td>1.000000</td>\n",
       "      <td>0.414244</td>\n",
       "      <td>0.158839</td>\n",
       "    </tr>\n",
       "    <tr>\n",
       "      <th>Parents/Children Aboard</th>\n",
       "      <td>0.080097</td>\n",
       "      <td>0.020252</td>\n",
       "      <td>-0.244337</td>\n",
       "      <td>-0.193741</td>\n",
       "      <td>0.414244</td>\n",
       "      <td>1.000000</td>\n",
       "      <td>0.215470</td>\n",
       "    </tr>\n",
       "    <tr>\n",
       "      <th>Fare</th>\n",
       "      <td>0.256179</td>\n",
       "      <td>-0.548919</td>\n",
       "      <td>-0.181137</td>\n",
       "      <td>0.112329</td>\n",
       "      <td>0.158839</td>\n",
       "      <td>0.215470</td>\n",
       "      <td>1.000000</td>\n",
       "    </tr>\n",
       "  </tbody>\n",
       "</table>\n",
       "</div>"
      ],
      "text/plain": [
       "                         Survived    Pclass       Sex       Age  \\\n",
       "Survived                 1.000000 -0.336528 -0.542152 -0.059665   \n",
       "Pclass                  -0.336528  1.000000  0.129507 -0.391492   \n",
       "Sex                     -0.542152  0.129507  1.000000  0.091875   \n",
       "Age                     -0.059665 -0.391492  0.091875  1.000000   \n",
       "Siblings/Spouses Aboard -0.037082  0.085026 -0.113249 -0.297669   \n",
       "Parents/Children Aboard  0.080097  0.020252 -0.244337 -0.193741   \n",
       "Fare                     0.256179 -0.548919 -0.181137  0.112329   \n",
       "\n",
       "                         Siblings/Spouses Aboard  Parents/Children Aboard  \\\n",
       "Survived                               -0.037082                 0.080097   \n",
       "Pclass                                  0.085026                 0.020252   \n",
       "Sex                                    -0.113249                -0.244337   \n",
       "Age                                    -0.297669                -0.193741   \n",
       "Siblings/Spouses Aboard                 1.000000                 0.414244   \n",
       "Parents/Children Aboard                 0.414244                 1.000000   \n",
       "Fare                                    0.158839                 0.215470   \n",
       "\n",
       "                             Fare  \n",
       "Survived                 0.256179  \n",
       "Pclass                  -0.548919  \n",
       "Sex                     -0.181137  \n",
       "Age                      0.112329  \n",
       "Siblings/Spouses Aboard  0.158839  \n",
       "Parents/Children Aboard  0.215470  \n",
       "Fare                     1.000000  "
      ]
     },
     "execution_count": 44,
     "metadata": {},
     "output_type": "execute_result"
    }
   ],
   "source": [
    "dataset.corr()"
   ]
  },
  {
   "cell_type": "code",
   "execution_count": 45,
   "id": "eac3d2ab-109f-4b88-8218-89eed0363c10",
   "metadata": {},
   "outputs": [
    {
     "data": {
      "text/plain": [
       "Survived                     2\n",
       "Pclass                       3\n",
       "Name                       887\n",
       "Sex                          2\n",
       "Age                         89\n",
       "Siblings/Spouses Aboard      7\n",
       "Parents/Children Aboard      7\n",
       "Fare                       248\n",
       "dtype: int64"
      ]
     },
     "execution_count": 45,
     "metadata": {},
     "output_type": "execute_result"
    }
   ],
   "source": [
    "dataset.nunique()"
   ]
  },
  {
   "cell_type": "code",
   "execution_count": 46,
   "id": "c3e545b3-95e2-4f60-80dd-16d9b4720466",
   "metadata": {},
   "outputs": [
    {
     "data": {
      "text/plain": [
       "(array([1, 2, 3]), array([216, 184, 487]))"
      ]
     },
     "execution_count": 46,
     "metadata": {},
     "output_type": "execute_result"
    }
   ],
   "source": [
    "np.unique(dataset['Pclass'], return_counts=True)"
   ]
  },
  {
   "cell_type": "markdown",
   "id": "fe4169af-2c26-4a40-9a9b-4cf310c10eef",
   "metadata": {},
   "source": [
    "## Feature selection"
   ]
  },
  {
   "cell_type": "markdown",
   "id": "afce766a-f2d5-4b2e-939e-61b78b1b3974",
   "metadata": {},
   "source": [
    "We first remove all the non numerical feature and normalize the dataset"
   ]
  },
  {
   "cell_type": "code",
   "execution_count": 47,
   "id": "934860e1-bc50-4e23-816a-39d89945fcb9",
   "metadata": {},
   "outputs": [],
   "source": [
    "col = ['Pclass', 'Sex', 'Age', 'Siblings/Spouses Aboard', 'Parents/Children Aboard']"
   ]
  },
  {
   "cell_type": "code",
   "execution_count": 48,
   "id": "cd714704-405c-4657-a6cd-dc31105f7daf",
   "metadata": {},
   "outputs": [],
   "source": [
    "dataset_norm = nm.fit_transform(dataset[col])\n",
    "dataset = pd.DataFrame(np.concatenate((dataset[['Survived']], dataset_norm), axis=1), columns=['Survived', *col])"
   ]
  },
  {
   "cell_type": "markdown",
   "id": "849c97be-9ae9-47a2-84b2-9980e3b5e347",
   "metadata": {},
   "source": [
    "We'll use a linear regression, as it is the only we have seen in class so far. "
   ]
  },
  {
   "cell_type": "code",
   "execution_count": 49,
   "id": "2a23727d-351d-4042-b0a9-d16ef02da7c1",
   "metadata": {},
   "outputs": [],
   "source": [
    "# https://scikit-learn.org/stable/modules/generated/sklearn.linear_model.LogisticRegression.html\n",
    "from sklearn.linear_model import LogisticRegression\n",
    "reg = LogisticRegression()"
   ]
  },
  {
   "cell_type": "markdown",
   "id": "da48a995-8b8a-4df0-8411-3dc881806c6b",
   "metadata": {},
   "source": [
    "Train a model with a dataset composed of each feature of the dataset, and record the accuracy"
   ]
  },
  {
   "cell_type": "code",
   "execution_count": 19,
   "id": "9cf2808c-4989-40d2-b696-5ec0f7877015",
   "metadata": {},
   "outputs": [
    {
     "data": {
      "text/plain": [
       "[('Pclass', 0.677564825253664),\n",
       " ('Sex', 0.7857948139797069),\n",
       " ('Age', 0.6144306651634723),\n",
       " ('Siblings/Spouses Aboard', 0.6144306651634723),\n",
       " ('Parents/Children Aboard', 0.6054114994363021)]"
      ]
     },
     "execution_count": 19,
     "metadata": {},
     "output_type": "execute_result"
    }
   ],
   "source": [
    "from sklearn.metrics import accuracy_score\n",
    "acc = []\n",
    "for i in col: #  iterate through the features\n",
    "    reg.fit(dataset[[i]], dataset['Survived']) #  train the model with this feature\n",
    "    predict = reg.predict(dataset[[i]]) #  get the prediction\n",
    "    acc.append(accuracy_score(dataset['Survived'], predict)) #  record the accuracy\n",
    "list(zip(col, acc))"
   ]
  },
  {
   "cell_type": "markdown",
   "id": "b9837665-1ae6-40e6-8bd3-ba0509491888",
   "metadata": {},
   "source": [
    "`Sex` is the best features, so we remove it from the list of features to evaluate and add it to the list of selected features."
   ]
  },
  {
   "cell_type": "code",
   "execution_count": 50,
   "id": "d5e3e106-382c-499a-a390-b39bec20e97e",
   "metadata": {},
   "outputs": [
    {
     "data": {
      "text/plain": [
       "'Sex'"
      ]
     },
     "execution_count": 50,
     "metadata": {},
     "output_type": "execute_result"
    }
   ],
   "source": [
    "selected = ['Sex']\n",
    "col.pop(1)"
   ]
  },
  {
   "cell_type": "markdown",
   "id": "304e9ae0-20fe-42b6-a382-b9ed6350c8a8",
   "metadata": {},
   "source": [
    "We repeat the first step, but now instead of dataset compose of one feature, we are testing dataset composed of two features:\n",
    "- `Sex`\n",
    "- another tested features"
   ]
  },
  {
   "cell_type": "code",
   "execution_count": 51,
   "id": "195e5933-cdba-469e-a753-a293a9d4d93d",
   "metadata": {},
   "outputs": [
    {
     "data": {
      "text/plain": [
       "[('Pclass', 0.7857948139797069),\n",
       " ('Age', 0.7857948139797069),\n",
       " ('Siblings/Spouses Aboard', 0.7891770011273957),\n",
       " ('Parents/Children Aboard', 0.7857948139797069)]"
      ]
     },
     "execution_count": 51,
     "metadata": {},
     "output_type": "execute_result"
    }
   ],
   "source": [
    "acc = []\n",
    "for i in col:\n",
    "    features = [*selected, i] #  Sex + the tested feature\n",
    "    reg.fit(dataset[features], dataset['Survived'])\n",
    "    predict = reg.predict(dataset[features])\n",
    "    acc.append(accuracy_score(dataset['Survived'], predict))\n",
    "list(zip(col, acc))"
   ]
  },
  {
   "cell_type": "markdown",
   "id": "3b483c03-1451-4bb4-bdb1-53613c272e67",
   "metadata": {},
   "source": [
    "The best feature now is `Siblings/Spouses Aboard`. It doesn't add too much information however."
   ]
  },
  {
   "cell_type": "code",
   "execution_count": 22,
   "id": "a083845f-1702-42f0-9ccb-36703bc73ae9",
   "metadata": {},
   "outputs": [],
   "source": [
    "selected.append(col.pop(2))"
   ]
  },
  {
   "cell_type": "markdown",
   "id": "78600fe7-e4c6-49c1-87cb-ebcfe9e72db4",
   "metadata": {},
   "source": [
    "Again, we are repeating our previous step, but now our selected features are:\n",
    "- Sex\n",
    "- Siblings/Spouses Aboard'  \n",
    "and we are adding one feature to test during each iteration."
   ]
  },
  {
   "cell_type": "code",
   "execution_count": 23,
   "id": "3edfcb2b-a786-4088-9f3c-2dbe7486afdf",
   "metadata": {},
   "outputs": [
    {
     "data": {
      "text/plain": [
       "[('Pclass', 0.7925591882750845),\n",
       " ('Age', 0.7891770011273957),\n",
       " ('Parents/Children Aboard', 0.7891770011273957)]"
      ]
     },
     "execution_count": 23,
     "metadata": {},
     "output_type": "execute_result"
    }
   ],
   "source": [
    "acc = []\n",
    "for i in col:\n",
    "    features = [*selected, i]\n",
    "    reg.fit(dataset[features], dataset['Survived'])\n",
    "    predict = reg.predict(dataset[features])\n",
    "    acc.append(accuracy_score(dataset['Survived'], predict))\n",
    "list(zip(col, acc))"
   ]
  },
  {
   "cell_type": "code",
   "execution_count": 24,
   "id": "c5359da8-7571-401d-a99a-059dc8f430be",
   "metadata": {},
   "outputs": [],
   "source": [
    "selected.append(col.pop(0))"
   ]
  },
  {
   "cell_type": "code",
   "execution_count": 25,
   "id": "0ac5dbe3-c159-4183-8682-026fbc514c6e",
   "metadata": {},
   "outputs": [
    {
     "data": {
      "text/plain": [
       "[('Age', 0.790304396843292), ('Parents/Children Aboard', 0.7925591882750845)]"
      ]
     },
     "execution_count": 25,
     "metadata": {},
     "output_type": "execute_result"
    }
   ],
   "source": [
    "acc = []\n",
    "for i in col:\n",
    "    features = [*selected, i]\n",
    "    reg.fit(dataset[features], dataset['Survived'])\n",
    "    predict = reg.predict(dataset[features])\n",
    "    acc.append(accuracy_score(dataset['Survived'], predict))\n",
    "list(zip(col, acc))"
   ]
  },
  {
   "cell_type": "code",
   "execution_count": 26,
   "id": "1bbb7274-eed3-4698-ba93-9ae5d520c801",
   "metadata": {},
   "outputs": [],
   "source": [
    "selected.append(col.pop(1))"
   ]
  },
  {
   "cell_type": "code",
   "execution_count": 27,
   "id": "99ba1ae7-f2ac-4e3b-a787-ec5f72e8a02f",
   "metadata": {},
   "outputs": [
    {
     "data": {
      "text/plain": [
       "[('Age', 0.8004509582863585)]"
      ]
     },
     "execution_count": 27,
     "metadata": {},
     "output_type": "execute_result"
    }
   ],
   "source": [
    "acc = []\n",
    "for i in col:\n",
    "    features = [*selected, i]\n",
    "    reg.fit(dataset[features], dataset['Survived'])\n",
    "    predict = reg.predict(dataset[features])\n",
    "    acc.append(accuracy_score(dataset['Survived'], predict))\n",
    "list(zip(col, acc))"
   ]
  },
  {
   "cell_type": "markdown",
   "id": "b74c160e-9bb4-4512-8176-8ce0e5e23d10",
   "metadata": {},
   "source": [
    "### Diabetes"
   ]
  },
  {
   "cell_type": "code",
   "execution_count": 52,
   "id": "1e7bfa34-bb99-4727-914a-0e11015ad587",
   "metadata": {},
   "outputs": [],
   "source": [
    "'''\n",
    "This line will allow us to load the dataset\n",
    "The dataset should be in a CSV format\n",
    "A CSV file is a delimited text file that uses a comma to separate values. \n",
    "Each line of the file is a data record.\n",
    "''' \n",
    "# header: indicates if the dataset has an initial line with the name of each column\n",
    "dataset = pd.read_csv('pima-indians-diabetes.csv', header=None)"
   ]
  },
  {
   "cell_type": "code",
   "execution_count": 53,
   "id": "89eee45c-2fd6-4e20-a277-f111e1543c95",
   "metadata": {
    "tags": []
   },
   "outputs": [
    {
     "data": {
      "text/html": [
       "<div>\n",
       "<style scoped>\n",
       "    .dataframe tbody tr th:only-of-type {\n",
       "        vertical-align: middle;\n",
       "    }\n",
       "\n",
       "    .dataframe tbody tr th {\n",
       "        vertical-align: top;\n",
       "    }\n",
       "\n",
       "    .dataframe thead th {\n",
       "        text-align: right;\n",
       "    }\n",
       "</style>\n",
       "<table border=\"1\" class=\"dataframe\">\n",
       "  <thead>\n",
       "    <tr style=\"text-align: right;\">\n",
       "      <th></th>\n",
       "      <th>0</th>\n",
       "      <th>1</th>\n",
       "      <th>2</th>\n",
       "      <th>3</th>\n",
       "      <th>4</th>\n",
       "      <th>5</th>\n",
       "      <th>6</th>\n",
       "      <th>7</th>\n",
       "      <th>8</th>\n",
       "    </tr>\n",
       "  </thead>\n",
       "  <tbody>\n",
       "    <tr>\n",
       "      <th>0</th>\n",
       "      <td>6</td>\n",
       "      <td>148</td>\n",
       "      <td>72</td>\n",
       "      <td>35</td>\n",
       "      <td>0</td>\n",
       "      <td>33.6</td>\n",
       "      <td>0.627</td>\n",
       "      <td>50</td>\n",
       "      <td>1</td>\n",
       "    </tr>\n",
       "    <tr>\n",
       "      <th>1</th>\n",
       "      <td>1</td>\n",
       "      <td>85</td>\n",
       "      <td>66</td>\n",
       "      <td>29</td>\n",
       "      <td>0</td>\n",
       "      <td>26.6</td>\n",
       "      <td>0.351</td>\n",
       "      <td>31</td>\n",
       "      <td>0</td>\n",
       "    </tr>\n",
       "    <tr>\n",
       "      <th>2</th>\n",
       "      <td>8</td>\n",
       "      <td>183</td>\n",
       "      <td>64</td>\n",
       "      <td>0</td>\n",
       "      <td>0</td>\n",
       "      <td>23.3</td>\n",
       "      <td>0.672</td>\n",
       "      <td>32</td>\n",
       "      <td>1</td>\n",
       "    </tr>\n",
       "    <tr>\n",
       "      <th>3</th>\n",
       "      <td>1</td>\n",
       "      <td>89</td>\n",
       "      <td>66</td>\n",
       "      <td>23</td>\n",
       "      <td>94</td>\n",
       "      <td>28.1</td>\n",
       "      <td>0.167</td>\n",
       "      <td>21</td>\n",
       "      <td>0</td>\n",
       "    </tr>\n",
       "    <tr>\n",
       "      <th>4</th>\n",
       "      <td>0</td>\n",
       "      <td>137</td>\n",
       "      <td>40</td>\n",
       "      <td>35</td>\n",
       "      <td>168</td>\n",
       "      <td>43.1</td>\n",
       "      <td>2.288</td>\n",
       "      <td>33</td>\n",
       "      <td>1</td>\n",
       "    </tr>\n",
       "  </tbody>\n",
       "</table>\n",
       "</div>"
      ],
      "text/plain": [
       "   0    1   2   3    4     5      6   7  8\n",
       "0  6  148  72  35    0  33.6  0.627  50  1\n",
       "1  1   85  66  29    0  26.6  0.351  31  0\n",
       "2  8  183  64   0    0  23.3  0.672  32  1\n",
       "3  1   89  66  23   94  28.1  0.167  21  0\n",
       "4  0  137  40  35  168  43.1  2.288  33  1"
      ]
     },
     "execution_count": 53,
     "metadata": {},
     "output_type": "execute_result"
    }
   ],
   "source": [
    "dataset.head()"
   ]
  },
  {
   "cell_type": "markdown",
   "id": "c4eb54cb-05dd-4c52-9926-504d74fa2635",
   "metadata": {},
   "source": [
    "We can automatise this in one function"
   ]
  },
  {
   "cell_type": "code",
   "execution_count": 30,
   "id": "172e7432-ad16-41e6-9baf-17f2d684e87a",
   "metadata": {},
   "outputs": [
    {
     "name": "stdout",
     "output_type": "stream",
     "text": [
      "Testing: [0, 1, 2, 3, 4, 5, 6, 7]\n",
      "[(0, 0.6640625), (1, 0.74609375), (2, 0.6510416666666666), (3, 0.65234375), (4, 0.6575520833333334), (5, 0.6640625), (6, 0.6588541666666666), (7, 0.6484375)]\n",
      "max 1 - 0.74609375\n",
      "\n",
      "Testing: [0, 2, 3, 4, 5, 6, 7]\n",
      "[(0, 0.74609375), (2, 0.74609375), (3, 0.7395833333333334), (4, 0.74609375), (5, 0.7643229166666666), (6, 0.7473958333333334), (7, 0.7369791666666666)]\n",
      "max 5 - 0.7643229166666666\n",
      "\n",
      "Testing: [0, 2, 3, 4, 6, 7]\n",
      "[(0, 0.7669270833333334), (2, 0.7669270833333334), (3, 0.7630208333333334), (4, 0.7604166666666666), (6, 0.7708333333333334), (7, 0.76953125)]\n",
      "max 6 - 0.7708333333333334\n",
      "\n",
      "Testing: [0, 2, 3, 4, 7]\n",
      "[(0, 0.76953125), (2, 0.7708333333333334), (3, 0.76953125), (4, 0.7721354166666666), (7, 0.77734375)]\n",
      "max 7 - 0.77734375\n",
      "\n",
      "Testing: [0, 2, 3, 4]\n",
      "[(0, 0.7799479166666666), (2, 0.77734375), (3, 0.7747395833333334), (4, 0.77734375)]\n",
      "max 0 - 0.7799479166666666\n",
      "\n",
      "Testing: [2, 3, 4]\n",
      "[(2, 0.7708333333333334), (3, 0.7799479166666666), (4, 0.7786458333333334)]\n",
      "max 3 - 0.7799479166666666\n",
      "\n",
      "[1, 5, 6, 7, 0, 3]\n"
     ]
    }
   ],
   "source": [
    "col = list(dataset.columns[:-1]) #  all features except the target\n",
    "selected = []\n",
    "for j in range(6): #  loop 6 times, find the best set of 6 features\n",
    "    acc = []\n",
    "    print('Testing:', col)\n",
    "    for i in col: #  for each features to test\n",
    "        features = [*selected, i] #  set of features = selected one so far + the one to test\n",
    "        reg.fit(dataset[features], dataset[8]) #  fit\n",
    "        predict = reg.predict(dataset[features]) #  predict\n",
    "        acc.append(accuracy_score(dataset[8], predict)) #  record accuracy\n",
    "    print(list(zip(col, acc)))\n",
    "    print('max', col[np.argmax(acc)], '-', np.max(acc), end='\\n\\n')\n",
    "    selected.append(col.pop(np.argmax(acc))) #  remove the best from the list and add it to the selected features\n",
    "print(selected)"
   ]
  }
 ],
 "metadata": {
  "kernelspec": {
   "display_name": "Python 3 (ipykernel)",
   "language": "python",
   "name": "python3"
  },
  "language_info": {
   "codemirror_mode": {
    "name": "ipython",
    "version": 3
   },
   "file_extension": ".py",
   "mimetype": "text/x-python",
   "name": "python",
   "nbconvert_exporter": "python",
   "pygments_lexer": "ipython3",
   "version": "3.8.12"
  }
 },
 "nbformat": 4,
 "nbformat_minor": 5
}
