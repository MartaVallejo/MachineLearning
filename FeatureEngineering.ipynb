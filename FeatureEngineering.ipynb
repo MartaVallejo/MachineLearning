{
 "cells": [
  {
   "cell_type": "markdown",
   "id": "4713a93b-5bc3-49ac-a43b-bc27dd4afa9a",
   "metadata": {},
   "source": [
    "# Feature Engineering"
   ]
  },
  {
   "cell_type": "markdown",
   "id": "e72e1205-8a1d-431f-9de3-2b0f71224892",
   "metadata": {},
   "source": [
    "## Redundancy ans useless information"
   ]
  },
  {
   "cell_type": "code",
   "execution_count": 1,
   "id": "1e28e802-76a4-4df3-9218-c0f6cec601fb",
   "metadata": {},
   "outputs": [],
   "source": [
    "# We would need these libraries to manage our dataset\n",
    "# Numpy: used for large, multi-dimensional arrays and matrices, and for high-level mathematical functions\n",
    "# Pandas: used for data manipulation and analysis\n",
    "# matplotlib: used for visualisation and plotting graph/image/etc\n",
    "import numpy as np\n",
    "import pandas as pd\n",
    "import matplotlib.pyplot as plt"
   ]
  },
  {
   "cell_type": "code",
   "execution_count": 2,
   "id": "e7af68aa-9dd5-451d-ae93-c7d2c44c338c",
   "metadata": {},
   "outputs": [],
   "source": [
    "# Import the iris dataset from sklearn\n",
    "# https://scikit-learn.org/stable/modules/classes.html#module-sklearn.datasets\n",
    "from sklearn.datasets import load_iris\n",
    "# load the dataset\n",
    "iris = load_iris()\n",
    "# transform the dataset into a Pandas DataFrame to make it easier to display\n",
    "# it is not necessary to understand what is done here\n",
    "dataset = pd.DataFrame(data= np.column_stack([iris['data'], iris['target']]),\n",
    "                     columns= iris['feature_names'] + ['target'])"
   ]
  },
  {
   "cell_type": "code",
   "execution_count": 3,
   "id": "310befe3-aca7-4673-8cd4-833a1906ed9b",
   "metadata": {},
   "outputs": [
    {
     "data": {
      "text/html": [
       "<div>\n",
       "<style scoped>\n",
       "    .dataframe tbody tr th:only-of-type {\n",
       "        vertical-align: middle;\n",
       "    }\n",
       "\n",
       "    .dataframe tbody tr th {\n",
       "        vertical-align: top;\n",
       "    }\n",
       "\n",
       "    .dataframe thead th {\n",
       "        text-align: right;\n",
       "    }\n",
       "</style>\n",
       "<table border=\"1\" class=\"dataframe\">\n",
       "  <thead>\n",
       "    <tr style=\"text-align: right;\">\n",
       "      <th></th>\n",
       "      <th>sepal length (cm)</th>\n",
       "      <th>sepal width (cm)</th>\n",
       "      <th>petal length (cm)</th>\n",
       "      <th>petal width (cm)</th>\n",
       "      <th>target</th>\n",
       "    </tr>\n",
       "  </thead>\n",
       "  <tbody>\n",
       "    <tr>\n",
       "      <th>sepal length (cm)</th>\n",
       "      <td>1.000000</td>\n",
       "      <td>-0.117570</td>\n",
       "      <td>0.871754</td>\n",
       "      <td>0.817941</td>\n",
       "      <td>0.782561</td>\n",
       "    </tr>\n",
       "    <tr>\n",
       "      <th>sepal width (cm)</th>\n",
       "      <td>-0.117570</td>\n",
       "      <td>1.000000</td>\n",
       "      <td>-0.428440</td>\n",
       "      <td>-0.366126</td>\n",
       "      <td>-0.426658</td>\n",
       "    </tr>\n",
       "    <tr>\n",
       "      <th>petal length (cm)</th>\n",
       "      <td>0.871754</td>\n",
       "      <td>-0.428440</td>\n",
       "      <td>1.000000</td>\n",
       "      <td>0.962865</td>\n",
       "      <td>0.949035</td>\n",
       "    </tr>\n",
       "    <tr>\n",
       "      <th>petal width (cm)</th>\n",
       "      <td>0.817941</td>\n",
       "      <td>-0.366126</td>\n",
       "      <td>0.962865</td>\n",
       "      <td>1.000000</td>\n",
       "      <td>0.956547</td>\n",
       "    </tr>\n",
       "    <tr>\n",
       "      <th>target</th>\n",
       "      <td>0.782561</td>\n",
       "      <td>-0.426658</td>\n",
       "      <td>0.949035</td>\n",
       "      <td>0.956547</td>\n",
       "      <td>1.000000</td>\n",
       "    </tr>\n",
       "  </tbody>\n",
       "</table>\n",
       "</div>"
      ],
      "text/plain": [
       "                   sepal length (cm)  sepal width (cm)  petal length (cm)  \\\n",
       "sepal length (cm)           1.000000         -0.117570           0.871754   \n",
       "sepal width (cm)           -0.117570          1.000000          -0.428440   \n",
       "petal length (cm)           0.871754         -0.428440           1.000000   \n",
       "petal width (cm)            0.817941         -0.366126           0.962865   \n",
       "target                      0.782561         -0.426658           0.949035   \n",
       "\n",
       "                   petal width (cm)    target  \n",
       "sepal length (cm)          0.817941  0.782561  \n",
       "sepal width (cm)          -0.366126 -0.426658  \n",
       "petal length (cm)          0.962865  0.949035  \n",
       "petal width (cm)           1.000000  0.956547  \n",
       "target                     0.956547  1.000000  "
      ]
     },
     "execution_count": 3,
     "metadata": {},
     "output_type": "execute_result"
    }
   ],
   "source": [
    "dataset.corr()"
   ]
  },
  {
   "cell_type": "code",
   "execution_count": 4,
   "id": "ed4d2607-3d9c-4363-ab38-eb204c85da70",
   "metadata": {},
   "outputs": [
    {
     "data": {
      "text/plain": [
       "1"
      ]
     },
     "execution_count": 4,
     "metadata": {},
     "output_type": "execute_result"
    }
   ],
   "source": [
    "dataset.duplicated().sum()"
   ]
  },
  {
   "cell_type": "code",
   "execution_count": 5,
   "id": "d6f08c51-950d-444e-b677-4c11492f5c65",
   "metadata": {},
   "outputs": [
    {
     "data": {
      "text/html": [
       "<div>\n",
       "<style scoped>\n",
       "    .dataframe tbody tr th:only-of-type {\n",
       "        vertical-align: middle;\n",
       "    }\n",
       "\n",
       "    .dataframe tbody tr th {\n",
       "        vertical-align: top;\n",
       "    }\n",
       "\n",
       "    .dataframe thead th {\n",
       "        text-align: right;\n",
       "    }\n",
       "</style>\n",
       "<table border=\"1\" class=\"dataframe\">\n",
       "  <thead>\n",
       "    <tr style=\"text-align: right;\">\n",
       "      <th></th>\n",
       "      <th>sepal length (cm)</th>\n",
       "      <th>sepal width (cm)</th>\n",
       "      <th>petal length (cm)</th>\n",
       "      <th>petal width (cm)</th>\n",
       "      <th>target</th>\n",
       "    </tr>\n",
       "  </thead>\n",
       "  <tbody>\n",
       "    <tr>\n",
       "      <th>count</th>\n",
       "      <td>150.000000</td>\n",
       "      <td>150.000000</td>\n",
       "      <td>150.000000</td>\n",
       "      <td>150.000000</td>\n",
       "      <td>150.000000</td>\n",
       "    </tr>\n",
       "    <tr>\n",
       "      <th>mean</th>\n",
       "      <td>5.843333</td>\n",
       "      <td>3.057333</td>\n",
       "      <td>3.758000</td>\n",
       "      <td>1.199333</td>\n",
       "      <td>1.000000</td>\n",
       "    </tr>\n",
       "    <tr>\n",
       "      <th>std</th>\n",
       "      <td>0.828066</td>\n",
       "      <td>0.435866</td>\n",
       "      <td>1.765298</td>\n",
       "      <td>0.762238</td>\n",
       "      <td>0.819232</td>\n",
       "    </tr>\n",
       "    <tr>\n",
       "      <th>min</th>\n",
       "      <td>4.300000</td>\n",
       "      <td>2.000000</td>\n",
       "      <td>1.000000</td>\n",
       "      <td>0.100000</td>\n",
       "      <td>0.000000</td>\n",
       "    </tr>\n",
       "    <tr>\n",
       "      <th>25%</th>\n",
       "      <td>5.100000</td>\n",
       "      <td>2.800000</td>\n",
       "      <td>1.600000</td>\n",
       "      <td>0.300000</td>\n",
       "      <td>0.000000</td>\n",
       "    </tr>\n",
       "    <tr>\n",
       "      <th>50%</th>\n",
       "      <td>5.800000</td>\n",
       "      <td>3.000000</td>\n",
       "      <td>4.350000</td>\n",
       "      <td>1.300000</td>\n",
       "      <td>1.000000</td>\n",
       "    </tr>\n",
       "    <tr>\n",
       "      <th>75%</th>\n",
       "      <td>6.400000</td>\n",
       "      <td>3.300000</td>\n",
       "      <td>5.100000</td>\n",
       "      <td>1.800000</td>\n",
       "      <td>2.000000</td>\n",
       "    </tr>\n",
       "    <tr>\n",
       "      <th>max</th>\n",
       "      <td>7.900000</td>\n",
       "      <td>4.400000</td>\n",
       "      <td>6.900000</td>\n",
       "      <td>2.500000</td>\n",
       "      <td>2.000000</td>\n",
       "    </tr>\n",
       "  </tbody>\n",
       "</table>\n",
       "</div>"
      ],
      "text/plain": [
       "       sepal length (cm)  sepal width (cm)  petal length (cm)  \\\n",
       "count         150.000000        150.000000         150.000000   \n",
       "mean            5.843333          3.057333           3.758000   \n",
       "std             0.828066          0.435866           1.765298   \n",
       "min             4.300000          2.000000           1.000000   \n",
       "25%             5.100000          2.800000           1.600000   \n",
       "50%             5.800000          3.000000           4.350000   \n",
       "75%             6.400000          3.300000           5.100000   \n",
       "max             7.900000          4.400000           6.900000   \n",
       "\n",
       "       petal width (cm)      target  \n",
       "count        150.000000  150.000000  \n",
       "mean           1.199333    1.000000  \n",
       "std            0.762238    0.819232  \n",
       "min            0.100000    0.000000  \n",
       "25%            0.300000    0.000000  \n",
       "50%            1.300000    1.000000  \n",
       "75%            1.800000    2.000000  \n",
       "max            2.500000    2.000000  "
      ]
     },
     "execution_count": 5,
     "metadata": {},
     "output_type": "execute_result"
    }
   ],
   "source": [
    "dataset.describe()"
   ]
  },
  {
   "cell_type": "code",
   "execution_count": 6,
   "id": "1b934687-f663-4978-b1ae-c9cf4f1ff7b1",
   "metadata": {},
   "outputs": [
    {
     "data": {
      "text/plain": [
       "sepal length (cm)    35\n",
       "sepal width (cm)     23\n",
       "petal length (cm)    43\n",
       "petal width (cm)     22\n",
       "target                3\n",
       "dtype: int64"
      ]
     },
     "execution_count": 6,
     "metadata": {},
     "output_type": "execute_result"
    }
   ],
   "source": [
    "dataset.nunique()"
   ]
  },
  {
   "cell_type": "code",
   "execution_count": 7,
   "id": "6e7f541a-0bf9-4d8f-ae64-3f53d87a1e5d",
   "metadata": {},
   "outputs": [],
   "source": [
    "'''\n",
    "This line will allow us to load the dataset\n",
    "The dataset should be in a CSV format\n",
    "A CSV file is a delimited text file that uses a comma to separate values. \n",
    "Each line of the file is a data record.\n",
    "''' \n",
    "# header: indicates if the dataset has an initial line with the name of each column\n",
    "# 0 is the index of the first row\n",
    "dataset = pd.read_csv('./dataset/titanic.csv', header=0)"
   ]
  },
  {
   "cell_type": "code",
   "execution_count": 8,
   "id": "e570e58e-8652-4404-8994-b470d05aa4b1",
   "metadata": {},
   "outputs": [],
   "source": [
    "dataset['Sex'] = dataset['Sex'] == 'male'"
   ]
  },
  {
   "cell_type": "code",
   "execution_count": 9,
   "id": "64449be5-a4a8-4f87-8960-ae1a67d72350",
   "metadata": {},
   "outputs": [
    {
     "data": {
      "text/plain": [
       "0"
      ]
     },
     "execution_count": 9,
     "metadata": {},
     "output_type": "execute_result"
    }
   ],
   "source": [
    "dataset.duplicated().sum()"
   ]
  },
  {
   "cell_type": "code",
   "execution_count": 10,
   "id": "bf251585-8ff1-4f27-a632-3f521f58f817",
   "metadata": {},
   "outputs": [
    {
     "data": {
      "text/html": [
       "<div>\n",
       "<style scoped>\n",
       "    .dataframe tbody tr th:only-of-type {\n",
       "        vertical-align: middle;\n",
       "    }\n",
       "\n",
       "    .dataframe tbody tr th {\n",
       "        vertical-align: top;\n",
       "    }\n",
       "\n",
       "    .dataframe thead th {\n",
       "        text-align: right;\n",
       "    }\n",
       "</style>\n",
       "<table border=\"1\" class=\"dataframe\">\n",
       "  <thead>\n",
       "    <tr style=\"text-align: right;\">\n",
       "      <th></th>\n",
       "      <th>Survived</th>\n",
       "      <th>Pclass</th>\n",
       "      <th>Sex</th>\n",
       "      <th>Age</th>\n",
       "      <th>Siblings/Spouses Aboard</th>\n",
       "      <th>Parents/Children Aboard</th>\n",
       "      <th>Fare</th>\n",
       "    </tr>\n",
       "  </thead>\n",
       "  <tbody>\n",
       "    <tr>\n",
       "      <th>Survived</th>\n",
       "      <td>1.000000</td>\n",
       "      <td>-0.336528</td>\n",
       "      <td>-0.542152</td>\n",
       "      <td>-0.059665</td>\n",
       "      <td>-0.037082</td>\n",
       "      <td>0.080097</td>\n",
       "      <td>0.256179</td>\n",
       "    </tr>\n",
       "    <tr>\n",
       "      <th>Pclass</th>\n",
       "      <td>-0.336528</td>\n",
       "      <td>1.000000</td>\n",
       "      <td>0.129507</td>\n",
       "      <td>-0.391492</td>\n",
       "      <td>0.085026</td>\n",
       "      <td>0.020252</td>\n",
       "      <td>-0.548919</td>\n",
       "    </tr>\n",
       "    <tr>\n",
       "      <th>Sex</th>\n",
       "      <td>-0.542152</td>\n",
       "      <td>0.129507</td>\n",
       "      <td>1.000000</td>\n",
       "      <td>0.091875</td>\n",
       "      <td>-0.113249</td>\n",
       "      <td>-0.244337</td>\n",
       "      <td>-0.181137</td>\n",
       "    </tr>\n",
       "    <tr>\n",
       "      <th>Age</th>\n",
       "      <td>-0.059665</td>\n",
       "      <td>-0.391492</td>\n",
       "      <td>0.091875</td>\n",
       "      <td>1.000000</td>\n",
       "      <td>-0.297669</td>\n",
       "      <td>-0.193741</td>\n",
       "      <td>0.112329</td>\n",
       "    </tr>\n",
       "    <tr>\n",
       "      <th>Siblings/Spouses Aboard</th>\n",
       "      <td>-0.037082</td>\n",
       "      <td>0.085026</td>\n",
       "      <td>-0.113249</td>\n",
       "      <td>-0.297669</td>\n",
       "      <td>1.000000</td>\n",
       "      <td>0.414244</td>\n",
       "      <td>0.158839</td>\n",
       "    </tr>\n",
       "    <tr>\n",
       "      <th>Parents/Children Aboard</th>\n",
       "      <td>0.080097</td>\n",
       "      <td>0.020252</td>\n",
       "      <td>-0.244337</td>\n",
       "      <td>-0.193741</td>\n",
       "      <td>0.414244</td>\n",
       "      <td>1.000000</td>\n",
       "      <td>0.215470</td>\n",
       "    </tr>\n",
       "    <tr>\n",
       "      <th>Fare</th>\n",
       "      <td>0.256179</td>\n",
       "      <td>-0.548919</td>\n",
       "      <td>-0.181137</td>\n",
       "      <td>0.112329</td>\n",
       "      <td>0.158839</td>\n",
       "      <td>0.215470</td>\n",
       "      <td>1.000000</td>\n",
       "    </tr>\n",
       "  </tbody>\n",
       "</table>\n",
       "</div>"
      ],
      "text/plain": [
       "                         Survived    Pclass       Sex       Age  \\\n",
       "Survived                 1.000000 -0.336528 -0.542152 -0.059665   \n",
       "Pclass                  -0.336528  1.000000  0.129507 -0.391492   \n",
       "Sex                     -0.542152  0.129507  1.000000  0.091875   \n",
       "Age                     -0.059665 -0.391492  0.091875  1.000000   \n",
       "Siblings/Spouses Aboard -0.037082  0.085026 -0.113249 -0.297669   \n",
       "Parents/Children Aboard  0.080097  0.020252 -0.244337 -0.193741   \n",
       "Fare                     0.256179 -0.548919 -0.181137  0.112329   \n",
       "\n",
       "                         Siblings/Spouses Aboard  Parents/Children Aboard  \\\n",
       "Survived                               -0.037082                 0.080097   \n",
       "Pclass                                  0.085026                 0.020252   \n",
       "Sex                                    -0.113249                -0.244337   \n",
       "Age                                    -0.297669                -0.193741   \n",
       "Siblings/Spouses Aboard                 1.000000                 0.414244   \n",
       "Parents/Children Aboard                 0.414244                 1.000000   \n",
       "Fare                                    0.158839                 0.215470   \n",
       "\n",
       "                             Fare  \n",
       "Survived                 0.256179  \n",
       "Pclass                  -0.548919  \n",
       "Sex                     -0.181137  \n",
       "Age                      0.112329  \n",
       "Siblings/Spouses Aboard  0.158839  \n",
       "Parents/Children Aboard  0.215470  \n",
       "Fare                     1.000000  "
      ]
     },
     "execution_count": 10,
     "metadata": {},
     "output_type": "execute_result"
    }
   ],
   "source": [
    "dataset.corr()"
   ]
  },
  {
   "cell_type": "code",
   "execution_count": 11,
   "id": "eac3d2ab-109f-4b88-8218-89eed0363c10",
   "metadata": {},
   "outputs": [
    {
     "data": {
      "text/plain": [
       "Survived                     2\n",
       "Pclass                       3\n",
       "Name                       887\n",
       "Sex                          2\n",
       "Age                         89\n",
       "Siblings/Spouses Aboard      7\n",
       "Parents/Children Aboard      7\n",
       "Fare                       248\n",
       "dtype: int64"
      ]
     },
     "execution_count": 11,
     "metadata": {},
     "output_type": "execute_result"
    }
   ],
   "source": [
    "dataset.nunique()"
   ]
  },
  {
   "cell_type": "markdown",
   "id": "fe4169af-2c26-4a40-9a9b-4cf310c10eef",
   "metadata": {},
   "source": [
    "## Feature selection"
   ]
  },
  {
   "cell_type": "code",
   "execution_count": 12,
   "id": "2a23727d-351d-4042-b0a9-d16ef02da7c1",
   "metadata": {},
   "outputs": [],
   "source": [
    "# https://scikit-learn.org/stable/modules/generated/sklearn.linear_model.LogisticRegression.html\n",
    "from sklearn.linear_model import LogisticRegression\n",
    "reg = LogisticRegression()"
   ]
  },
  {
   "cell_type": "code",
   "execution_count": 13,
   "id": "f406cff8-6695-4dcf-85db-8cc4bb29f9d7",
   "metadata": {},
   "outputs": [],
   "source": [
    "col = ['Pclass', 'Sex', 'Age', 'Siblings/Spouses Aboard', 'Parents/Children Aboard']"
   ]
  },
  {
   "cell_type": "code",
   "execution_count": 14,
   "id": "9cf2808c-4989-40d2-b696-5ec0f7877015",
   "metadata": {},
   "outputs": [
    {
     "data": {
      "text/plain": [
       "[('Pclass', 0.677564825253664),\n",
       " ('Sex', 0.7857948139797069),\n",
       " ('Age', 0.6144306651634723),\n",
       " ('Siblings/Spouses Aboard', 0.6144306651634723),\n",
       " ('Parents/Children Aboard', 0.6065388951521984)]"
      ]
     },
     "execution_count": 14,
     "metadata": {},
     "output_type": "execute_result"
    }
   ],
   "source": [
    "from sklearn.metrics import accuracy_score\n",
    "acc = []\n",
    "for i in col:\n",
    "    reg.fit(dataset[[i]], dataset['Survived'])\n",
    "    predict = reg.predict(dataset[[i]])\n",
    "    acc.append(accuracy_score(dataset['Survived'], predict))\n",
    "list(zip(col, acc))"
   ]
  },
  {
   "cell_type": "code",
   "execution_count": 15,
   "id": "d5e3e106-382c-499a-a390-b39bec20e97e",
   "metadata": {},
   "outputs": [
    {
     "data": {
      "text/plain": [
       "'Sex'"
      ]
     },
     "execution_count": 15,
     "metadata": {},
     "output_type": "execute_result"
    }
   ],
   "source": [
    "selected = ['Sex']\n",
    "col.pop(1)"
   ]
  },
  {
   "cell_type": "code",
   "execution_count": 16,
   "id": "195e5933-cdba-469e-a753-a293a9d4d93d",
   "metadata": {},
   "outputs": [
    {
     "data": {
      "text/plain": [
       "[('Pclass', 0.7857948139797069),\n",
       " ('Age', 0.7857948139797069),\n",
       " ('Siblings/Spouses Aboard', 0.790304396843292),\n",
       " ('Parents/Children Aboard', 0.7857948139797069)]"
      ]
     },
     "execution_count": 16,
     "metadata": {},
     "output_type": "execute_result"
    }
   ],
   "source": [
    "acc = []\n",
    "for i in col:\n",
    "    features = [*selected, i]\n",
    "    reg.fit(dataset[features], dataset['Survived'])\n",
    "    predict = reg.predict(dataset[features])\n",
    "    acc.append(accuracy_score(dataset['Survived'], predict))\n",
    "list(zip(col, acc))"
   ]
  },
  {
   "cell_type": "code",
   "execution_count": 17,
   "id": "a083845f-1702-42f0-9ccb-36703bc73ae9",
   "metadata": {},
   "outputs": [],
   "source": [
    "selected.append(col.pop(2))"
   ]
  },
  {
   "cell_type": "code",
   "execution_count": 18,
   "id": "3edfcb2b-a786-4088-9f3c-2dbe7486afdf",
   "metadata": {},
   "outputs": [
    {
     "data": {
      "text/plain": [
       "[('Pclass', 0.7993235625704622),\n",
       " ('Age', 0.790304396843292),\n",
       " ('Parents/Children Aboard', 0.790304396843292)]"
      ]
     },
     "execution_count": 18,
     "metadata": {},
     "output_type": "execute_result"
    }
   ],
   "source": [
    "acc = []\n",
    "for i in col:\n",
    "    features = [*selected, i]\n",
    "    reg.fit(dataset[features], dataset['Survived'])\n",
    "    predict = reg.predict(dataset[features])\n",
    "    acc.append(accuracy_score(dataset['Survived'], predict))\n",
    "list(zip(col, acc))"
   ]
  },
  {
   "cell_type": "code",
   "execution_count": 19,
   "id": "c5359da8-7571-401d-a99a-059dc8f430be",
   "metadata": {},
   "outputs": [],
   "source": [
    "selected.append(col.pop(0))"
   ]
  },
  {
   "cell_type": "code",
   "execution_count": 20,
   "id": "0ac5dbe3-c159-4183-8682-026fbc514c6e",
   "metadata": {},
   "outputs": [
    {
     "data": {
      "text/plain": [
       "[('Age', 0.8049605411499436), ('Parents/Children Aboard', 0.7993235625704622)]"
      ]
     },
     "execution_count": 20,
     "metadata": {},
     "output_type": "execute_result"
    }
   ],
   "source": [
    "acc = []\n",
    "for i in col:\n",
    "    features = [*selected, i]\n",
    "    reg.fit(dataset[features], dataset['Survived'])\n",
    "    predict = reg.predict(dataset[features])\n",
    "    acc.append(accuracy_score(dataset['Survived'], predict))\n",
    "list(zip(col, acc))"
   ]
  },
  {
   "cell_type": "code",
   "execution_count": 21,
   "id": "1bbb7274-eed3-4698-ba93-9ae5d520c801",
   "metadata": {},
   "outputs": [],
   "source": [
    "selected.append(col.pop(0))"
   ]
  },
  {
   "cell_type": "code",
   "execution_count": 22,
   "id": "99ba1ae7-f2ac-4e3b-a787-ec5f72e8a02f",
   "metadata": {},
   "outputs": [
    {
     "data": {
      "text/plain": [
       "[('Parents/Children Aboard', 0.8083427282976324)]"
      ]
     },
     "execution_count": 22,
     "metadata": {},
     "output_type": "execute_result"
    }
   ],
   "source": [
    "acc = []\n",
    "for i in col:\n",
    "    features = [*selected, i]\n",
    "    reg.fit(dataset[features], dataset['Survived'])\n",
    "    predict = reg.predict(dataset[features])\n",
    "    acc.append(accuracy_score(dataset['Survived'], predict))\n",
    "list(zip(col, acc))"
   ]
  },
  {
   "cell_type": "markdown",
   "id": "b74c160e-9bb4-4512-8176-8ce0e5e23d10",
   "metadata": {},
   "source": [
    "### Diabetes"
   ]
  },
  {
   "cell_type": "code",
   "execution_count": 23,
   "id": "1e7bfa34-bb99-4727-914a-0e11015ad587",
   "metadata": {},
   "outputs": [],
   "source": [
    "'''\n",
    "This line will allow us to load the dataset\n",
    "The dataset should be in a CSV format\n",
    "A CSV file is a delimited text file that uses a comma to separate values. \n",
    "Each line of the file is a data record.\n",
    "''' \n",
    "# header: indicates if the dataset has an initial line with the name of each column\n",
    "dataset = pd.read_csv('pima-indians-diabetes.csv', header=None)"
   ]
  },
  {
   "cell_type": "code",
   "execution_count": 24,
   "id": "89eee45c-2fd6-4e20-a277-f111e1543c95",
   "metadata": {},
   "outputs": [
    {
     "data": {
      "text/html": [
       "<div>\n",
       "<style scoped>\n",
       "    .dataframe tbody tr th:only-of-type {\n",
       "        vertical-align: middle;\n",
       "    }\n",
       "\n",
       "    .dataframe tbody tr th {\n",
       "        vertical-align: top;\n",
       "    }\n",
       "\n",
       "    .dataframe thead th {\n",
       "        text-align: right;\n",
       "    }\n",
       "</style>\n",
       "<table border=\"1\" class=\"dataframe\">\n",
       "  <thead>\n",
       "    <tr style=\"text-align: right;\">\n",
       "      <th></th>\n",
       "      <th>0</th>\n",
       "      <th>1</th>\n",
       "      <th>2</th>\n",
       "      <th>3</th>\n",
       "      <th>4</th>\n",
       "      <th>5</th>\n",
       "      <th>6</th>\n",
       "      <th>7</th>\n",
       "      <th>8</th>\n",
       "    </tr>\n",
       "  </thead>\n",
       "  <tbody>\n",
       "    <tr>\n",
       "      <th>0</th>\n",
       "      <td>6</td>\n",
       "      <td>148</td>\n",
       "      <td>72</td>\n",
       "      <td>35</td>\n",
       "      <td>0</td>\n",
       "      <td>33.6</td>\n",
       "      <td>0.627</td>\n",
       "      <td>50</td>\n",
       "      <td>1</td>\n",
       "    </tr>\n",
       "    <tr>\n",
       "      <th>1</th>\n",
       "      <td>1</td>\n",
       "      <td>85</td>\n",
       "      <td>66</td>\n",
       "      <td>29</td>\n",
       "      <td>0</td>\n",
       "      <td>26.6</td>\n",
       "      <td>0.351</td>\n",
       "      <td>31</td>\n",
       "      <td>0</td>\n",
       "    </tr>\n",
       "    <tr>\n",
       "      <th>2</th>\n",
       "      <td>8</td>\n",
       "      <td>183</td>\n",
       "      <td>64</td>\n",
       "      <td>0</td>\n",
       "      <td>0</td>\n",
       "      <td>23.3</td>\n",
       "      <td>0.672</td>\n",
       "      <td>32</td>\n",
       "      <td>1</td>\n",
       "    </tr>\n",
       "    <tr>\n",
       "      <th>3</th>\n",
       "      <td>1</td>\n",
       "      <td>89</td>\n",
       "      <td>66</td>\n",
       "      <td>23</td>\n",
       "      <td>94</td>\n",
       "      <td>28.1</td>\n",
       "      <td>0.167</td>\n",
       "      <td>21</td>\n",
       "      <td>0</td>\n",
       "    </tr>\n",
       "    <tr>\n",
       "      <th>4</th>\n",
       "      <td>0</td>\n",
       "      <td>137</td>\n",
       "      <td>40</td>\n",
       "      <td>35</td>\n",
       "      <td>168</td>\n",
       "      <td>43.1</td>\n",
       "      <td>2.288</td>\n",
       "      <td>33</td>\n",
       "      <td>1</td>\n",
       "    </tr>\n",
       "  </tbody>\n",
       "</table>\n",
       "</div>"
      ],
      "text/plain": [
       "   0    1   2   3    4     5      6   7  8\n",
       "0  6  148  72  35    0  33.6  0.627  50  1\n",
       "1  1   85  66  29    0  26.6  0.351  31  0\n",
       "2  8  183  64   0    0  23.3  0.672  32  1\n",
       "3  1   89  66  23   94  28.1  0.167  21  0\n",
       "4  0  137  40  35  168  43.1  2.288  33  1"
      ]
     },
     "execution_count": 24,
     "metadata": {},
     "output_type": "execute_result"
    }
   ],
   "source": [
    "dataset.head()"
   ]
  },
  {
   "cell_type": "code",
   "execution_count": 28,
   "id": "172e7432-ad16-41e6-9baf-17f2d684e87a",
   "metadata": {},
   "outputs": [
    {
     "name": "stdout",
     "output_type": "stream",
     "text": [
      "Testing: [0, 1, 2, 3, 4, 5, 6, 7]\n",
      "[(0, 0.6640625), (1, 0.74609375), (2, 0.6510416666666666), (3, 0.65234375), (4, 0.6575520833333334), (5, 0.6640625), (6, 0.6588541666666666), (7, 0.6484375)]\n",
      "max 1 - 0.74609375\n",
      "\n",
      "Testing: [0, 2, 3, 4, 5, 6, 7]\n",
      "[(0, 0.74609375), (2, 0.74609375), (3, 0.7395833333333334), (4, 0.74609375), (5, 0.7643229166666666), (6, 0.7473958333333334), (7, 0.7369791666666666)]\n",
      "max 5 - 0.7643229166666666\n",
      "\n",
      "Testing: [0, 2, 3, 4, 6, 7]\n",
      "[(0, 0.7669270833333334), (2, 0.7669270833333334), (3, 0.7630208333333334), (4, 0.7604166666666666), (6, 0.7708333333333334), (7, 0.76953125)]\n",
      "max 6 - 0.7708333333333334\n",
      "\n",
      "Testing: [0, 2, 3, 4, 7]\n",
      "[(0, 0.76953125), (2, 0.7708333333333334), (3, 0.76953125), (4, 0.7721354166666666), (7, 0.77734375)]\n",
      "max 7 - 0.77734375\n",
      "\n",
      "Testing: [0, 2, 3, 4]\n",
      "[(0, 0.7799479166666666), (2, 0.77734375), (3, 0.7747395833333334), (4, 0.77734375)]\n",
      "max 0 - 0.7799479166666666\n",
      "\n",
      "Testing: [2, 3, 4]\n",
      "[(2, 0.7708333333333334), (3, 0.7799479166666666), (4, 0.7786458333333334)]\n",
      "max 3 - 0.7799479166666666\n",
      "\n",
      "[1, 5, 6, 7, 0, 3]\n"
     ]
    }
   ],
   "source": [
    "col = list(dataset.columns[:-1])\n",
    "selected = []\n",
    "for j in range(6):\n",
    "    acc = []\n",
    "    print('Testing:', col)\n",
    "    for i in col:\n",
    "        features = [*selected, i]\n",
    "        reg.fit(dataset[features], dataset[8])\n",
    "        predict = reg.predict(dataset[features])\n",
    "        acc.append(accuracy_score(dataset[8], predict))\n",
    "    print(list(zip(col, acc)))\n",
    "    print('max', col[np.argmax(acc)], '-', np.max(acc), end='\\n\\n')\n",
    "    selected.append(col.pop(np.argmax(acc)))\n",
    "print(selected)"
   ]
  }
 ],
 "metadata": {
  "kernelspec": {
   "display_name": "Python 3 (ipykernel)",
   "language": "python",
   "name": "python3"
  },
  "language_info": {
   "codemirror_mode": {
    "name": "ipython",
    "version": 3
   },
   "file_extension": ".py",
   "mimetype": "text/x-python",
   "name": "python",
   "nbconvert_exporter": "python",
   "pygments_lexer": "ipython3",
   "version": "3.8.12"
  }
 },
 "nbformat": 4,
 "nbformat_minor": 5
}
